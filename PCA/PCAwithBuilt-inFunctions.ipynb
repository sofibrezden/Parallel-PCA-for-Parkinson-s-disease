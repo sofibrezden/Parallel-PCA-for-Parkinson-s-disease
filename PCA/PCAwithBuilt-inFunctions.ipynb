{
 "cells": [
  {
   "cell_type": "code",
   "outputs": [],
   "source": [
    "# Standardize data\n",
    "import pandas as pd\n",
    "import numpy as np\n",
    "import matplotlib.pyplot as plt\n",
    "\n",
    "df = pd.read_csv(\"raw_dataset.csv\")\n",
    "X = df.iloc[:, :].values.copy()\n",
    "target_all_total = df['total_UPDRS'].values\n",
    "target_all_motor = df['motor_UPDRS'].values\n",
    "mean = np.mean(X, axis=0)\n",
    "scale = np.std(X, axis=0)\n",
    "X_std = (X - mean) / scale\n"
   ],
   "metadata": {
    "collapsed": false,
    "ExecuteTime": {
     "end_time": "2024-04-23T19:08:51.109491Z",
     "start_time": "2024-04-23T19:08:51.086724Z"
    }
   },
   "id": "f669dd98de863fa5",
   "execution_count": 190
  },
  {
   "cell_type": "code",
   "outputs": [],
   "source": [
    "# Eigendecomposition of covariance matrix\n",
    "cov_mat = np.cov(X_std.T)"
   ],
   "metadata": {
    "collapsed": false,
    "ExecuteTime": {
     "end_time": "2024-04-23T19:08:51.117736Z",
     "start_time": "2024-04-23T19:08:51.110489Z"
    }
   },
   "id": "70008c169103edb6",
   "execution_count": 191
  },
  {
   "cell_type": "code",
   "outputs": [],
   "source": [
    "from numpy import array, identity, diagonal\n",
    "from math import sqrt\n",
    "\n",
    "\n",
    "def jacobi(a, tol=1.0e-9):  # Jacobi method\n",
    "\n",
    "    def maxElem(a):  # Find largest off-diag. element a[k,l]\n",
    "        n = len(a)\n",
    "        aMax = 0.0\n",
    "        for i in range(n - 1):\n",
    "            for j in range(i + 1, n):\n",
    "                if abs(a[i, j]) >= aMax:\n",
    "                    aMax = abs(a[i, j])\n",
    "                    k = i;\n",
    "                    l = j\n",
    "        return aMax, k, l\n",
    "\n",
    "    def rotate(a, p, k, l):  # Rotate to make a[k,l] = 0\n",
    "        n = len(a)\n",
    "        aDiff = a[l, l] - a[k, k]\n",
    "        if abs(a[k, l]) < abs(aDiff) * 1.0e-36:\n",
    "            t = a[k, l] / aDiff\n",
    "        else:\n",
    "            phi = aDiff / (2.0 * a[k, l])\n",
    "            t = 1.0 / (abs(phi) + sqrt(phi ** 2 + 1.0))\n",
    "            if phi < 0.0: t = -t\n",
    "        c = 1.0 / sqrt(t ** 2 + 1.0);\n",
    "        s = t * c\n",
    "        tau = s / (1.0 + c)\n",
    "        temp = a[k, l]\n",
    "        a[k, l] = 0.0\n",
    "        a[k, k] = a[k, k] - t * temp\n",
    "        a[l, l] = a[l, l] + t * temp\n",
    "        for i in range(k):  # Case of i < k\n",
    "            temp = a[i, k]\n",
    "            a[i, k] = temp - s * (a[i, l] + tau * temp)\n",
    "            a[i, l] = a[i, l] + s * (temp - tau * a[i, l])\n",
    "        for i in range(k + 1, l):  # Case of k < i < l\n",
    "            temp = a[k, i]\n",
    "            a[k, i] = temp - s * (a[i, l] + tau * a[k, i])\n",
    "            a[i, l] = a[i, l] + s * (temp - tau * a[i, l])\n",
    "        for i in range(l + 1, n):  # Case of i > l\n",
    "            temp = a[k, i]\n",
    "            a[k, i] = temp - s * (a[l, i] + tau * temp)\n",
    "            a[l, i] = a[l, i] + s * (temp - tau * a[l, i])\n",
    "        for i in range(n):  # Update transformation matrix\n",
    "            temp = p[i, k]\n",
    "            p[i, k] = temp - s * (p[i, l] + tau * p[i, k])\n",
    "            p[i, l] = p[i, l] + s * (temp - tau * p[i, l])\n",
    "\n",
    "    n = len(a)\n",
    "    maxRot = 5 * (n ** 2)  # Set limit on number of rotations\n",
    "    p = identity(n) * 1.0  # Initialize transformation matrix\n",
    "    for i in range(maxRot):  # Jacobi rotation loop \n",
    "        aMax, k, l = maxElem(a)\n",
    "        if aMax < tol: return diagonal(a), p\n",
    "        rotate(a, p, k, l)\n",
    "    print('Jacobi method did not converge')"
   ],
   "metadata": {
    "collapsed": false,
    "ExecuteTime": {
     "end_time": "2024-04-23T19:08:51.239852Z",
     "start_time": "2024-04-23T19:08:51.224735Z"
    }
   },
   "id": "4c63cbc6a95230a9",
   "execution_count": 192
  },
  {
   "cell_type": "code",
   "outputs": [],
   "source": [
    "eig_vals, eig_vecs = jacobi(cov_mat)"
   ],
   "metadata": {
    "collapsed": false,
    "ExecuteTime": {
     "end_time": "2024-04-23T19:08:51.334155Z",
     "start_time": "2024-04-23T19:08:51.242850Z"
    }
   },
   "id": "8d54b4d919dcbfc6",
   "execution_count": 193
  },
  {
   "cell_type": "code",
   "outputs": [],
   "source": [
    "# Adjusting the eigenvectors that are largest in absolute value to be positive\n",
    "max_abs_idx = np.argmax(np.abs(eig_vecs), axis=0)\n",
    "signs = np.sign(eig_vecs[max_abs_idx, range(eig_vecs.shape[0])])\n",
    "eig_vecs = eig_vecs * signs[np.newaxis, :]\n",
    "eig_vecs = eig_vecs.T\n",
    "\n",
    "eig_pairs = [(np.abs(eig_vals[i]), eig_vecs[i, :]) for i in range(len(eig_vals))]\n",
    "eig_pairs.sort(key=lambda x: x[0], reverse=True)\n",
    "eig_vals_sorted = np.array([x[0] for x in eig_pairs])\n",
    "eig_vecs_sorted = np.array([x[1] for x in eig_pairs])\n",
    "n_components = 11\n",
    "components = eig_vecs_sorted[:n_components, :]\n",
    "\n"
   ],
   "metadata": {
    "collapsed": false,
    "ExecuteTime": {
     "end_time": "2024-04-23T19:08:51.344534Z",
     "start_time": "2024-04-23T19:08:51.336155Z"
    }
   },
   "id": "860cf893f7d975df",
   "execution_count": 194
  },
  {
   "cell_type": "code",
   "outputs": [],
   "source": [
    "# Explained variance ratio\n",
    "explained_variance_ratio = [i / np.sum(eig_vals) for i in eig_vals_sorted[:n_components]]\n",
    "\n",
    "cum_explained_variance = np.cumsum(explained_variance_ratio)"
   ],
   "metadata": {
    "collapsed": false,
    "ExecuteTime": {
     "end_time": "2024-04-23T19:08:51.356086Z",
     "start_time": "2024-04-23T19:08:51.345527Z"
    }
   },
   "id": "e7fba5b46b4fa224",
   "execution_count": 195
  },
  {
   "cell_type": "code",
   "outputs": [
    {
     "name": "stdout",
     "output_type": "stream",
     "text": [
      "Components:\n",
      " [[ 5.45335563e-02  2.73216904e-02  1.06219527e-02 -9.58278928e-03\n",
      "   4.12278663e-02  3.94275708e-02  2.65414048e-01  2.47925771e-01\n",
      "   2.57459296e-01  2.63550999e-01  2.57460801e-01  2.77600822e-01\n",
      "   2.77946432e-01  2.67976258e-01  2.73501681e-01  2.61317108e-01\n",
      "   2.67975837e-01  2.57408554e-01 -2.56673062e-01  1.67637721e-01\n",
      "   6.88921201e-02  2.29915396e-01]\n",
      " [ 2.15210580e-01  3.19141812e-01 -3.49677669e-02  7.59962227e-02\n",
      "   6.12995629e-01  6.21577338e-01 -8.68806318e-02 -8.06341566e-02\n",
      "  -9.99935726e-02 -8.75571432e-02 -9.99851127e-02  1.56923101e-02\n",
      "   2.06659414e-02  9.15807425e-03  1.00434080e-02  5.31989865e-02\n",
      "   9.15826377e-03 -4.61827040e-02 -6.08370981e-02  9.29058246e-02\n",
      "  -1.47154010e-01  3.32977985e-02]\n",
      " [ 9.78598147e-03 -4.65453974e-02 -2.73951686e-01  6.50137727e-02\n",
      "   1.18781932e-01  1.37582583e-01  2.32914727e-01  3.14219183e-01\n",
      "   2.33653740e-01  1.56304828e-01  2.33659971e-01 -2.45401667e-01\n",
      "  -2.33699290e-01 -2.67629532e-01 -2.59909702e-01 -2.23161019e-01\n",
      "  -2.67630807e-01 -5.67899724e-02 -6.34386015e-03  1.47928090e-01\n",
      "   3.52446262e-01  2.72045283e-01]\n",
      " [ 3.08752212e-01 -1.46865538e-01  5.76451705e-01  1.06869120e-02\n",
      "   1.01824321e-01  6.06281156e-02  2.01046784e-01 -4.47367669e-02\n",
      "   2.33634265e-01  2.30418335e-01  2.33628946e-01 -8.25394622e-02\n",
      "  -8.08655403e-02 -1.12085990e-01 -7.86165034e-02 -1.37522543e-01\n",
      "  -1.12085939e-01  2.20241933e-01  1.60801518e-01 -2.85875214e-01\n",
      "  -3.04100938e-01 -1.40816937e-01]\n",
      " [ 6.60451300e-01 -3.12628216e-01  2.68882231e-01 -4.44368652e-02\n",
      "  -4.20548957e-02 -5.73604857e-02 -1.26065959e-01 -5.93382304e-02\n",
      "  -1.45019985e-01 -1.37849867e-01 -1.45014950e-01  1.00986185e-02\n",
      "   2.07801793e-03  1.47662857e-04  1.08577325e-02  7.11868448e-02\n",
      "   1.46847632e-04 -1.11161226e-01 -1.78318150e-01  1.92983962e-01\n",
      "   4.54087823e-01  1.15653095e-01]\n",
      " [-2.30389153e-02 -6.16829990e-02  2.84519612e-02  9.78503390e-01\n",
      "  -2.31754094e-02 -2.48459866e-02 -1.39479264e-02 -1.44932634e-02\n",
      "  -1.65149191e-02 -4.71840134e-03 -1.65026691e-02  3.29867941e-02\n",
      "   3.17963173e-02  4.53300889e-02  3.34303588e-02  1.94399515e-02\n",
      "   4.53337512e-02 -1.09249212e-02  2.75232429e-02 -1.24411781e-01\n",
      "   1.05451342e-01 -8.93814260e-03]\n",
      " [ 5.33404557e-02  8.42421539e-01  3.61906643e-01  2.35377048e-02\n",
      "  -2.02407154e-01 -1.89664198e-01  1.84144584e-02  1.07764467e-02\n",
      "   1.80971072e-02 -7.00248176e-03  1.80915716e-02 -4.36688684e-02\n",
      "  -3.44588841e-02 -4.98465293e-02 -5.35851995e-02 -4.07655523e-03\n",
      "  -4.98454591e-02 -7.88620312e-02 -4.49376807e-02 -8.77801632e-03\n",
      "   1.98097800e-01  1.39068479e-01]\n",
      " [ 7.64875558e-02  3.18745878e-03  5.53505588e-02  1.66689005e-01\n",
      "  -1.63473836e-01 -1.29909859e-01 -2.49973778e-02  6.57565078e-02\n",
      "  -6.15792923e-02 -4.15218897e-02 -6.15949212e-02 -7.61596389e-02\n",
      "  -6.26327968e-02 -1.12463091e-01 -8.33241707e-02 -8.41615839e-02\n",
      "  -1.12469400e-01  1.68516707e-01 -1.67208903e-01  7.12869368e-01\n",
      "  -5.35552013e-01  7.09194426e-02]\n",
      " [ 6.33260134e-01  2.20351286e-01 -5.89407176e-01  2.89512791e-02\n",
      "  -2.07940408e-01 -1.24062044e-01  4.80846383e-02  3.78625041e-02\n",
      "   3.39620458e-02  6.73642327e-02  3.39809726e-02  2.42102637e-02\n",
      "   1.86661975e-02  8.05454300e-03  1.96440369e-02  2.91416150e-02\n",
      "   8.05445146e-03  6.75054526e-02  1.80613187e-01 -1.84612766e-01\n",
      "  -1.94243986e-01 -1.47225680e-01]\n",
      " [ 3.37502525e-02 -8.89705246e-02 -8.18819017e-03 -1.36141613e-02\n",
      "  -1.81881768e-02 -7.20234344e-02 -5.99367948e-02  1.12924111e-01\n",
      "  -1.34220519e-01 -1.02251756e-01 -1.34204531e-01 -2.88618514e-02\n",
      "   2.14659347e-02 -4.78808975e-02 -4.09831514e-02  3.00755934e-02\n",
      "  -4.78778423e-02 -2.88772141e-02 -1.77507075e-01 -4.32872873e-01\n",
      "  -3.27360727e-01  7.66158889e-01]\n",
      " [-8.00564386e-02  3.08863683e-02 -9.23993060e-02 -1.70408812e-03\n",
      "   3.63232650e-02 -2.60963599e-02 -4.04066869e-03 -3.12821564e-01\n",
      "  -1.92159291e-01  2.83777942e-01 -1.92115922e-01 -3.40814363e-02\n",
      "  -3.14414630e-03 -3.39072818e-01  1.25541579e-01  3.28345589e-01\n",
      "  -3.39074956e-01  5.77794696e-01 -6.31246602e-02 -4.11534078e-02\n",
      "   1.85660494e-01  3.43331143e-02]]\n",
      "Explained variance ratio from scratch:\n",
      " [0.5149570602247509, 0.10168190502149665, 0.07732904265697066, 0.06737054878068792, 0.053099048506731236, 0.045364991591095645, 0.0373002516604694, 0.03227583826655663, 0.02300638807327764, 0.013312809894406315, 0.009239838992821103]\n",
      "Cumulative explained variance from scratch:\n",
      " [0.51495706 0.61663897 0.69396801 0.76133856 0.81443761 0.8598026\n",
      " 0.89710285 0.92937869 0.95238507 0.96569788 0.97493772]\n",
      "Transformed data shape from scratch: (5875, 11)\n"
     ]
    },
    {
     "data": {
      "text/plain": "<Figure size 640x480 with 1 Axes>",
      "image/png": "[encoded data removed]"
     },
     "metadata": {},
     "output_type": "display_data"
    }
   ],
   "source": [
    "# Transform data\n",
    "X_proj = X_std.dot(components.T)\n",
    "\n",
    "print('Components:\\n', components)\n",
    "print('Explained variance ratio from scratch:\\n', explained_variance_ratio)\n",
    "print('Cumulative explained variance from scratch:\\n', cum_explained_variance)\n",
    "\n",
    "plt.plot(np.cumsum(explained_variance_ratio))\n",
    "plt.xlabel('number of components')\n",
    "plt.ylabel('cumulative explained variance')\n",
    "\n",
    "print('Transformed data shape from scratch:', X_proj.shape)"
   ],
   "metadata": {
    "collapsed": false,
    "ExecuteTime": {
     "end_time": "2024-04-23T19:08:51.626266Z",
     "start_time": "2024-04-23T19:08:51.357078Z"
    }
   },
   "id": "c3a77d83b0f8488d",
   "execution_count": 196
  },
  {
   "cell_type": "code",
   "outputs": [
    {
     "name": "stdout",
     "output_type": "stream",
     "text": [
      "Components:\n",
      " [[ 5.45335563e-02  2.73216904e-02  1.06219527e-02 -9.58278928e-03\n",
      "   4.12278663e-02  3.94275708e-02  2.65414048e-01  2.47925771e-01\n",
      "   2.57459296e-01  2.63550999e-01  2.57460801e-01  2.77600822e-01\n",
      "   2.77946432e-01  2.67976258e-01  2.73501681e-01  2.61317108e-01\n",
      "   2.67975837e-01  2.57408554e-01 -2.56673062e-01  1.67637721e-01\n",
      "   6.88921201e-02  2.29915396e-01]\n",
      " [-2.15210581e-01 -3.19141812e-01  3.49677662e-02 -7.59962225e-02\n",
      "  -6.12995629e-01 -6.21577338e-01  8.68806315e-02  8.06341566e-02\n",
      "   9.99935723e-02  8.75571428e-02  9.99851124e-02 -1.56923099e-02\n",
      "  -2.06659413e-02 -9.15807408e-03 -1.00434079e-02 -5.31989863e-02\n",
      "  -9.15826360e-03  4.61827038e-02  6.08370979e-02 -9.29058242e-02\n",
      "   1.47154011e-01 -3.32977983e-02]\n",
      " [-9.78598147e-03  4.65453974e-02  2.73951686e-01 -6.50137727e-02\n",
      "  -1.18781932e-01 -1.37582583e-01 -2.32914727e-01 -3.14219183e-01\n",
      "  -2.33653740e-01 -1.56304828e-01 -2.33659971e-01  2.45401667e-01\n",
      "   2.33699290e-01  2.67629532e-01  2.59909702e-01  2.23161019e-01\n",
      "   2.67630808e-01  5.67899724e-02  6.34386015e-03 -1.47928090e-01\n",
      "  -3.52446262e-01 -2.72045283e-01]\n",
      " [ 3.08752212e-01 -1.46865538e-01  5.76451705e-01  1.06869119e-02\n",
      "   1.01824321e-01  6.06281148e-02  2.01046784e-01 -4.47367668e-02\n",
      "   2.33634265e-01  2.30418335e-01  2.33628946e-01 -8.25394622e-02\n",
      "  -8.08655403e-02 -1.12085990e-01 -7.86165034e-02 -1.37522543e-01\n",
      "  -1.12085939e-01  2.20241933e-01  1.60801518e-01 -2.85875214e-01\n",
      "  -3.04100938e-01 -1.40816937e-01]\n",
      " [-6.60451300e-01  3.12628216e-01 -2.68882231e-01  4.44368652e-02\n",
      "   4.20548957e-02  5.73604857e-02  1.26065959e-01  5.93382304e-02\n",
      "   1.45019985e-01  1.37849867e-01  1.45014950e-01 -1.00986181e-02\n",
      "  -2.07801815e-03 -1.47662881e-04 -1.08577326e-02 -7.11868450e-02\n",
      "  -1.46847656e-04  1.11161226e-01  1.78318150e-01 -1.92983962e-01\n",
      "  -4.54087823e-01 -1.15653096e-01]\n",
      " [-2.30389153e-02 -6.16829989e-02  2.84519611e-02  9.78503390e-01\n",
      "  -2.31754092e-02 -2.48459864e-02 -1.39479264e-02 -1.44932634e-02\n",
      "  -1.65149191e-02 -4.71840133e-03 -1.65026693e-02  3.29867943e-02\n",
      "   3.17963171e-02  4.53300891e-02  3.34303586e-02  1.94399514e-02\n",
      "   4.53337514e-02 -1.09249211e-02  2.75232427e-02 -1.24411782e-01\n",
      "   1.05451342e-01 -8.93814278e-03]\n",
      " [ 5.33404557e-02  8.42421539e-01  3.61906643e-01  2.35377048e-02\n",
      "  -2.02407154e-01 -1.89664198e-01  1.84144586e-02  1.07764467e-02\n",
      "   1.80971072e-02 -7.00248175e-03  1.80915716e-02 -4.36688682e-02\n",
      "  -3.44588839e-02 -4.98465293e-02 -5.35851996e-02 -4.07655529e-03\n",
      "  -4.98454591e-02 -7.88620313e-02 -4.49376807e-02 -8.77801652e-03\n",
      "   1.98097801e-01  1.39068479e-01]\n",
      " [-7.64875558e-02 -3.18745896e-03 -5.53505589e-02 -1.66689006e-01\n",
      "   1.63473836e-01  1.29909859e-01  2.49973778e-02 -6.57565078e-02\n",
      "   6.15792923e-02  4.15218899e-02  6.15949211e-02  7.61596389e-02\n",
      "   6.26327968e-02  1.12463091e-01  8.33241708e-02  8.41615839e-02\n",
      "   1.12469400e-01 -1.68516707e-01  1.67208903e-01 -7.12869368e-01\n",
      "   5.35552013e-01 -7.09194427e-02]\n",
      " [ 6.33260134e-01  2.20351286e-01 -5.89407175e-01  2.89512791e-02\n",
      "  -2.07940409e-01 -1.24062044e-01  4.80846385e-02  3.78625041e-02\n",
      "   3.39620455e-02  6.73642333e-02  3.39809723e-02  2.42102640e-02\n",
      "   1.86661981e-02  8.05454249e-03  1.96440362e-02  2.91416154e-02\n",
      "   8.05445095e-03  6.75054529e-02  1.80613187e-01 -1.84612766e-01\n",
      "  -1.94243986e-01 -1.47225680e-01]\n",
      " [-3.37502533e-02  8.89705247e-02  8.18818975e-03  1.36141614e-02\n",
      "   1.81881759e-02  7.20234354e-02  5.99367946e-02 -1.12924112e-01\n",
      "   1.34220519e-01  1.02251759e-01  1.34204528e-01  2.88618497e-02\n",
      "  -2.14659343e-02  4.78808938e-02  4.09831528e-02 -3.00755883e-02\n",
      "   4.78778386e-02  2.88772183e-02  1.77507073e-01  4.32872873e-01\n",
      "   3.27360728e-01 -7.66158890e-01]\n",
      " [ 8.00564389e-02 -3.08863678e-02  9.23993041e-02  1.70408863e-03\n",
      "  -3.63232654e-02  2.60963596e-02  4.04067110e-03  3.12821554e-01\n",
      "   1.92159295e-01 -2.83777937e-01  1.92115926e-01  3.40814357e-02\n",
      "   3.14414484e-03  3.39072819e-01 -1.25541582e-01 -3.28345585e-01\n",
      "   3.39074957e-01 -5.77794703e-01  6.31246571e-02  4.11534119e-02\n",
      "  -1.85660493e-01 -3.43331205e-02]]\n",
      "Explained variance ratio:\n",
      " [0.51495706 0.10168191 0.07732904 0.06737055 0.05309905 0.04536499\n",
      " 0.03730025 0.03227584 0.02300639 0.01331281 0.00923984]\n",
      "Cumulative explained variance:\n",
      " [0.51495706 0.61663897 0.69396801 0.76133856 0.81443761 0.8598026\n",
      " 0.89710285 0.92937869 0.95238507 0.96569788 0.97493772]\n",
      "Transformed data shape: (5875, 11)\n"
     ]
    }
   ],
   "source": [
    "from sklearn.preprocessing import StandardScaler\n",
    "\n",
    "X_std = StandardScaler().fit_transform(X)\n",
    "\n",
    "from sklearn.decomposition import PCA\n",
    "\n",
    "pca = PCA(n_components=11).fit(X_std)\n",
    "\n",
    "print('Components:\\n', pca.components_)\n",
    "print('Explained variance ratio:\\n', pca.explained_variance_ratio_)\n",
    "\n",
    "cum_explained_variance = np.cumsum(pca.explained_variance_ratio_)\n",
    "print('Cumulative explained variance:\\n', cum_explained_variance)\n",
    "\n",
    "X_pca_our = pca.transform(X_std)  # Apply dimensionality reduction to X.\n",
    "print('Transformed data shape:', X_pca_our.shape)\n"
   ],
   "metadata": {
    "collapsed": false,
    "ExecuteTime": {
     "end_time": "2024-04-23T19:08:51.793229Z",
     "start_time": "2024-04-23T19:08:51.627230Z"
    }
   },
   "id": "178be7e88771902a",
   "execution_count": 197
  },
  {
   "cell_type": "code",
   "outputs": [],
   "source": [
    "df.drop(['subject#'], axis=1, inplace=True)"
   ],
   "metadata": {
    "collapsed": false,
    "ExecuteTime": {
     "end_time": "2024-04-23T19:08:51.799393Z",
     "start_time": "2024-04-23T19:08:51.794230Z"
    }
   },
   "id": "50f8bf5dccf7e405",
   "execution_count": 198
  },
  {
   "cell_type": "code",
   "outputs": [
    {
     "data": {
      "text/plain": "   age  sex  test_time  motor_UPDRS  total_UPDRS  Jitter(%)  Jitter(Abs)  \\\n0   72    0     5.6431       28.199       34.398    0.00662     0.000034   \n1   72    0    12.6660       28.447       34.894    0.00300     0.000017   \n2   72    0    19.6810       28.695       35.389    0.00481     0.000025   \n3   72    0    25.6470       28.905       35.810    0.00528     0.000027   \n4   72    0    33.6420       29.187       36.375    0.00335     0.000020   \n\n   Jitter:RAP  Jitter:PPQ5  Jitter:DDP  ...  Shimmer(dB)  Shimmer:APQ3  \\\n0     0.00401      0.00317     0.01204  ...        0.230       0.01438   \n1     0.00132      0.00150     0.00395  ...        0.179       0.00994   \n2     0.00205      0.00208     0.00616  ...        0.181       0.00734   \n3     0.00191      0.00264     0.00573  ...        0.327       0.01106   \n4     0.00093      0.00130     0.00278  ...        0.176       0.00679   \n\n   Shimmer:APQ5  Shimmer:APQ11  Shimmer:DDA       NHR     HNR     RPDE  \\\n0       0.01309        0.01662      0.04314  0.014290  21.640  0.41888   \n1       0.01072        0.01689      0.02982  0.011112  27.183  0.43493   \n2       0.00844        0.01458      0.02202  0.020220  23.047  0.46222   \n3       0.01265        0.01963      0.03317  0.027837  24.445  0.48730   \n4       0.00929        0.01819      0.02036  0.011625  26.126  0.47188   \n\n       DFA      PPE  \n0  0.54842  0.16006  \n1  0.56477  0.10810  \n2  0.54405  0.21014  \n3  0.57794  0.33277  \n4  0.56122  0.19361  \n\n[5 rows x 21 columns]",
      "text/html": "<div>\n<style scoped>\n    .dataframe tbody tr th:only-of-type {\n        vertical-align: middle;\n    }\n\n    .dataframe tbody tr th {\n        vertical-align: top;\n    }\n\n    .dataframe thead th {\n        text-align: right;\n    }\n</style>\n<table border=\"1\" class=\"dataframe\">\n  <thead>\n    <tr style=\"text-align: right;\">\n      <th></th>\n      <th>age</th>\n      <th>sex</th>\n      <th>test_time</th>\n      <th>motor_UPDRS</th>\n      <th>total_UPDRS</th>\n      <th>Jitter(%)</th>\n      <th>Jitter(Abs)</th>\n      <th>Jitter:RAP</th>\n      <th>Jitter:PPQ5</th>\n      <th>Jitter:DDP</th>\n      <th>...</th>\n      <th>Shimmer(dB)</th>\n      <th>Shimmer:APQ3</th>\n      <th>Shimmer:APQ5</th>\n      <th>Shimmer:APQ11</th>\n      <th>Shimmer:DDA</th>\n      <th>NHR</th>\n      <th>HNR</th>\n      <th>RPDE</th>\n      <th>DFA</th>\n      <th>PPE</th>\n    </tr>\n  </thead>\n  <tbody>\n    <tr>\n      <th>0</th>\n      <td>72</td>\n      <td>0</td>\n      <td>5.6431</td>\n      <td>28.199</td>\n      <td>34.398</td>\n      <td>0.00662</td>\n      <td>0.000034</td>\n      <td>0.00401</td>\n      <td>0.00317</td>\n      <td>0.01204</td>\n      <td>...</td>\n      <td>0.230</td>\n      <td>0.01438</td>\n      <td>0.01309</td>\n      <td>0.01662</td>\n      <td>0.04314</td>\n      <td>0.014290</td>\n      <td>21.640</td>\n      <td>0.41888</td>\n      <td>0.54842</td>\n      <td>0.16006</td>\n    </tr>\n    <tr>\n      <th>1</th>\n      <td>72</td>\n      <td>0</td>\n      <td>12.6660</td>\n      <td>28.447</td>\n      <td>34.894</td>\n      <td>0.00300</td>\n      <td>0.000017</td>\n      <td>0.00132</td>\n      <td>0.00150</td>\n      <td>0.00395</td>\n      <td>...</td>\n      <td>0.179</td>\n      <td>0.00994</td>\n      <td>0.01072</td>\n      <td>0.01689</td>\n      <td>0.02982</td>\n      <td>0.011112</td>\n      <td>27.183</td>\n      <td>0.43493</td>\n      <td>0.56477</td>\n      <td>0.10810</td>\n    </tr>\n    <tr>\n      <th>2</th>\n      <td>72</td>\n      <td>0</td>\n      <td>19.6810</td>\n      <td>28.695</td>\n      <td>35.389</td>\n      <td>0.00481</td>\n      <td>0.000025</td>\n      <td>0.00205</td>\n      <td>0.00208</td>\n      <td>0.00616</td>\n      <td>...</td>\n      <td>0.181</td>\n      <td>0.00734</td>\n      <td>0.00844</td>\n      <td>0.01458</td>\n      <td>0.02202</td>\n      <td>0.020220</td>\n      <td>23.047</td>\n      <td>0.46222</td>\n      <td>0.54405</td>\n      <td>0.21014</td>\n    </tr>\n    <tr>\n      <th>3</th>\n      <td>72</td>\n      <td>0</td>\n      <td>25.6470</td>\n      <td>28.905</td>\n      <td>35.810</td>\n      <td>0.00528</td>\n      <td>0.000027</td>\n      <td>0.00191</td>\n      <td>0.00264</td>\n      <td>0.00573</td>\n      <td>...</td>\n      <td>0.327</td>\n      <td>0.01106</td>\n      <td>0.01265</td>\n      <td>0.01963</td>\n      <td>0.03317</td>\n      <td>0.027837</td>\n      <td>24.445</td>\n      <td>0.48730</td>\n      <td>0.57794</td>\n      <td>0.33277</td>\n    </tr>\n    <tr>\n      <th>4</th>\n      <td>72</td>\n      <td>0</td>\n      <td>33.6420</td>\n      <td>29.187</td>\n      <td>36.375</td>\n      <td>0.00335</td>\n      <td>0.000020</td>\n      <td>0.00093</td>\n      <td>0.00130</td>\n      <td>0.00278</td>\n      <td>...</td>\n      <td>0.176</td>\n      <td>0.00679</td>\n      <td>0.00929</td>\n      <td>0.01819</td>\n      <td>0.02036</td>\n      <td>0.011625</td>\n      <td>26.126</td>\n      <td>0.47188</td>\n      <td>0.56122</td>\n      <td>0.19361</td>\n    </tr>\n  </tbody>\n</table>\n<p>5 rows × 21 columns</p>\n</div>"
     },
     "execution_count": 199,
     "metadata": {},
     "output_type": "execute_result"
    }
   ],
   "source": [
    "df.head()"
   ],
   "metadata": {
    "collapsed": false,
    "ExecuteTime": {
     "end_time": "2024-04-23T19:08:51.823898Z",
     "start_time": "2024-04-23T19:08:51.800384Z"
    }
   },
   "id": "d77082a3f923f35f",
   "execution_count": 199
  },
  {
   "cell_type": "code",
   "outputs": [
    {
     "data": {
      "text/plain": "Index(['age', 'sex', 'test_time', 'motor_UPDRS', 'total_UPDRS', 'Jitter(%)',\n       'Jitter(Abs)', 'Jitter:RAP', 'Jitter:PPQ5', 'Jitter:DDP', 'Shimmer',\n       'Shimmer(dB)', 'Shimmer:APQ3', 'Shimmer:APQ5', 'Shimmer:APQ11',\n       'Shimmer:DDA', 'NHR', 'HNR', 'RPDE', 'DFA', 'PPE'],\n      dtype='object')"
     },
     "execution_count": 200,
     "metadata": {},
     "output_type": "execute_result"
    }
   ],
   "source": [
    "df.columns"
   ],
   "metadata": {
    "collapsed": false,
    "ExecuteTime": {
     "end_time": "2024-04-23T19:08:51.839017Z",
     "start_time": "2024-04-23T19:08:51.824896Z"
    }
   },
   "id": "da040b8b6e0053d7",
   "execution_count": 200
  },
  {
   "cell_type": "code",
   "outputs": [],
   "source": [
    "X = df[['age', 'sex', 'test_time', 'motor_UPDRS', 'total_UPDRS',\n",
    "        'Jitter(%)', 'Jitter(Abs)', 'Jitter:RAP', 'Jitter:PPQ5', 'Jitter:DDP',\n",
    "        'Shimmer', 'Shimmer(dB)', 'Shimmer:APQ3', 'Shimmer:APQ5',\n",
    "        'Shimmer:APQ11', 'Shimmer:DDA', 'NHR', 'HNR', 'RPDE', 'DFA', 'PPE']].values\n",
    "y = df['motor_UPDRS'].values"
   ],
   "metadata": {
    "collapsed": false,
    "ExecuteTime": {
     "end_time": "2024-04-23T19:08:51.853014Z",
     "start_time": "2024-04-23T19:08:51.840014Z"
    }
   },
   "id": "471e55e3faea3c5c",
   "execution_count": 201
  },
  {
   "cell_type": "code",
   "outputs": [
    {
     "data": {
      "text/plain": "array([[7.2000e+01, 0.0000e+00, 5.6431e+00, ..., 4.1888e-01, 5.4842e-01,\n        1.6006e-01],\n       [7.2000e+01, 0.0000e+00, 1.2666e+01, ..., 4.3493e-01, 5.6477e-01,\n        1.0810e-01],\n       [7.2000e+01, 0.0000e+00, 1.9681e+01, ..., 4.6222e-01, 5.4405e-01,\n        2.1014e-01],\n       ...,\n       [6.1000e+01, 0.0000e+00, 1.5682e+02, ..., 4.7792e-01, 5.7888e-01,\n        1.4157e-01],\n       [6.1000e+01, 0.0000e+00, 1.6373e+02, ..., 5.6865e-01, 5.6327e-01,\n        1.4204e-01],\n       [6.1000e+01, 0.0000e+00, 1.7073e+02, ..., 5.8608e-01, 5.7077e-01,\n        1.5336e-01]])"
     },
     "execution_count": 202,
     "metadata": {},
     "output_type": "execute_result"
    }
   ],
   "source": [
    "X"
   ],
   "metadata": {
    "collapsed": false,
    "ExecuteTime": {
     "end_time": "2024-04-23T19:08:51.863907Z",
     "start_time": "2024-04-23T19:08:51.854013Z"
    }
   },
   "id": "f9fc701441ae6bc3",
   "execution_count": 202
  },
  {
   "cell_type": "code",
   "outputs": [
    {
     "data": {
      "text/plain": "array([28.199, 28.447, 28.695, ..., 21.495, 21.007, 20.513])"
     },
     "execution_count": 203,
     "metadata": {},
     "output_type": "execute_result"
    }
   ],
   "source": [
    "y"
   ],
   "metadata": {
    "collapsed": false,
    "ExecuteTime": {
     "end_time": "2024-04-23T19:08:51.876188Z",
     "start_time": "2024-04-23T19:08:51.864896Z"
    }
   },
   "id": "7d49d9d7dea4a65c",
   "execution_count": 203
  },
  {
   "cell_type": "code",
   "outputs": [],
   "source": [
    "## Random Forest with PCA built-in function"
   ],
   "metadata": {
    "collapsed": false,
    "ExecuteTime": {
     "end_time": "2024-04-23T19:08:51.892181Z",
     "start_time": "2024-04-23T19:08:51.877182Z"
    }
   },
   "id": "9beafddc9936eb23",
   "execution_count": 204
  },
  {
   "cell_type": "code",
   "outputs": [],
   "source": [
    "from sklearn.decomposition import PCA\n",
    "from sklearn.preprocessing import StandardScaler\n",
    "from sklearn.ensemble import RandomForestRegressor\n",
    "from sklearn.model_selection import train_test_split\n",
    "from sklearn import metrics\n",
    "import numpy as np\n",
    "\n",
    "# Спочатку масштабуємо дані\n",
    "scaler = StandardScaler()\n",
    "X_scaled = scaler.fit_transform(X)\n",
    "\n",
    "# Зменшуємо розмірність датасету з PCA\n",
    "pca = PCA(n_components=11)\n",
    "X_pca = pca.fit_transform(X_scaled)"
   ],
   "metadata": {
    "collapsed": false,
    "ExecuteTime": {
     "end_time": "2024-04-23T19:08:52.073706Z",
     "start_time": "2024-04-23T19:08:51.893183Z"
    }
   },
   "id": "fbd408ea0ad16e9b",
   "execution_count": 205
  },
  {
   "cell_type": "code",
   "outputs": [
    {
     "data": {
      "text/plain": "array([[-0.89034346, -1.0398599 ,  0.05935904, ..., -0.30848475,\n         0.38853391, -0.52679491],\n       [-2.50941747, -1.26564907,  0.54869368, ...,  0.2127456 ,\n        -0.09651752,  0.09955513],\n       [-1.84565013, -1.36027744, -0.18271938, ..., -0.74042271,\n        -0.17914241, -0.18409323],\n       ...,\n       [-1.78042602, -0.41470279,  0.43092736, ...,  0.02683676,\n         0.05360442,  0.00681354],\n       [-2.47233571, -0.47682411, -0.15374494, ...,  0.22263392,\n        -0.03637864,  0.06455065],\n       [-2.04951452, -0.45772885, -0.02638035, ...,  0.21527912,\n         0.02648354, -0.00420543]])"
     },
     "execution_count": 206,
     "metadata": {},
     "output_type": "execute_result"
    }
   ],
   "source": [
    "X_pca"
   ],
   "metadata": {
    "collapsed": false,
    "ExecuteTime": {
     "end_time": "2024-04-23T19:08:52.083799Z",
     "start_time": "2024-04-23T19:08:52.074696Z"
    }
   },
   "id": "33e30e3b8471bc18",
   "execution_count": 206
  },
  {
   "cell_type": "code",
   "outputs": [
    {
     "data": {
      "text/plain": "(0.987975640890956, 0.5411794363512585, 0.7833146309762642)"
     },
     "execution_count": 207,
     "metadata": {},
     "output_type": "execute_result"
    }
   ],
   "source": [
    "# Розділяємо дані на навчальний та тестувальний набори\n",
    "X_train, X_test, y_train, y_test = train_test_split(X_pca, y, test_size=0.25, random_state=0)\n",
    "\n",
    "# Ініціалізуємо та навчаємо модель Random Forest\n",
    "regressor = RandomForestRegressor(n_estimators=150, random_state=0)\n",
    "regressor.fit(X_train, y_train)\n",
    "\n",
    "# Робимо прогнози на тестувальному наборі\n",
    "y_pred = regressor.predict(X_test)\n",
    "\n",
    "# Оцінюємо точність моделі\n",
    "explained_variance = metrics.explained_variance_score(y_test, y_pred)\n",
    "mean_absolute_error = metrics.mean_absolute_error(y_test, y_pred)\n",
    "mean_squared_error = metrics.mean_squared_error(y_test, y_pred)\n",
    "\n",
    "explained_variance, mean_absolute_error, mean_squared_error"
   ],
   "metadata": {
    "collapsed": false,
    "ExecuteTime": {
     "end_time": "2024-04-23T19:08:59.059222Z",
     "start_time": "2024-04-23T19:08:52.085789Z"
    }
   },
   "id": "a17d55e3de22147a",
   "execution_count": 207
  },
  {
   "cell_type": "code",
   "outputs": [],
   "source": [
    "## Random Forest with Our PCA "
   ],
   "metadata": {
    "collapsed": false,
    "ExecuteTime": {
     "end_time": "2024-04-23T19:08:59.063543Z",
     "start_time": "2024-04-23T19:08:59.060219Z"
    }
   },
   "id": "6263933ea6e3a144",
   "execution_count": 208
  },
  {
   "cell_type": "code",
   "outputs": [],
   "source": [
    "from sklearn.preprocessing import StandardScaler\n",
    "from sklearn.ensemble import RandomForestRegressor\n",
    "from sklearn.model_selection import train_test_split\n",
    "from sklearn import metrics\n",
    "\n",
    "# Спочатку масштабуємо дані\n",
    "scaler = StandardScaler()\n",
    "X_scaled = scaler.fit_transform(X)\n",
    "\n",
    "X_pca = X_pca_our\n"
   ],
   "metadata": {
    "collapsed": false,
    "ExecuteTime": {
     "end_time": "2024-04-23T19:08:59.080296Z",
     "start_time": "2024-04-23T19:08:59.064531Z"
    }
   },
   "id": "4621dc3016aa9418",
   "execution_count": 209
  },
  {
   "cell_type": "code",
   "outputs": [
    {
     "data": {
      "text/plain": "array([[-0.97951267, -0.63742095,  0.07976055, ..., -0.196334  ,\n        -0.26969151,  0.30029981],\n       [-2.5958211 , -0.87163904,  0.57072394, ..., -0.12000569,\n         0.24109615, -0.18047512],\n       [-1.9325361 , -0.9668129 , -0.16052805, ..., -0.41161484,\n        -0.70448178, -0.26933904],\n       ...,\n       [-1.68814873, -0.7500151 ,  0.41723183, ...,  1.77999844,\n        -0.05093947,  0.23234827],\n       [-2.37861284, -0.82717451, -0.1675603 , ...,  1.57565799,\n         0.14818425,  0.13059133],\n       [-1.95649274, -0.79775419, -0.03909706, ...,  1.49964565,\n         0.14406023,  0.18807437]])"
     },
     "execution_count": 210,
     "metadata": {},
     "output_type": "execute_result"
    }
   ],
   "source": [
    "X_pca"
   ],
   "metadata": {
    "collapsed": false,
    "ExecuteTime": {
     "end_time": "2024-04-23T19:08:59.095649Z",
     "start_time": "2024-04-23T19:08:59.081282Z"
    }
   },
   "id": "5534bde24717c7c5",
   "execution_count": 210
  },
  {
   "cell_type": "code",
   "outputs": [],
   "source": [
    "# Розділяємо дані на навчальний та тестувальний набори\n",
    "X_train, X_test, y_train, y_test = train_test_split(X_pca, y, test_size=0.25, random_state=0)\n",
    "\n"
   ],
   "metadata": {
    "collapsed": false,
    "ExecuteTime": {
     "end_time": "2024-04-23T19:08:59.107517Z",
     "start_time": "2024-04-23T19:08:59.097642Z"
    }
   },
   "id": "798abee6d0e9b0ea",
   "execution_count": 211
  },
  {
   "cell_type": "code",
   "outputs": [
    {
     "data": {
      "text/plain": "array([28.199, 28.447, 28.695, ..., 21.495, 21.007, 20.513])"
     },
     "execution_count": 212,
     "metadata": {},
     "output_type": "execute_result"
    }
   ],
   "source": [
    "y"
   ],
   "metadata": {
    "collapsed": false,
    "ExecuteTime": {
     "end_time": "2024-04-23T19:08:59.120848Z",
     "start_time": "2024-04-23T19:08:59.108509Z"
    }
   },
   "id": "56617f3a93789e91",
   "execution_count": 212
  },
  {
   "cell_type": "code",
   "outputs": [
    {
     "data": {
      "text/plain": "(0.989975772200472, 0.5066724588155208, 0.6529865449936967)"
     },
     "execution_count": 213,
     "metadata": {},
     "output_type": "execute_result"
    }
   ],
   "source": [
    "# Ініціалізуємо та навчаємо модель Random Forest\n",
    "regressor = RandomForestRegressor(n_estimators=150, random_state=0)\n",
    "regressor.fit(X_train, y_train)\n",
    "\n",
    "# Робимо прогнози на тестувальному наборі\n",
    "y_pred = regressor.predict(X_test)\n",
    "\n",
    "# Оцінюємо точність моделі\n",
    "explained_variance = metrics.explained_variance_score(y_test, y_pred)\n",
    "mean_absolute_error = metrics.mean_absolute_error(y_test, y_pred)\n",
    "mean_squared_error = metrics.mean_squared_error(y_test, y_pred)\n",
    "\n",
    "explained_variance, mean_absolute_error, mean_squared_error"
   ],
   "metadata": {
    "collapsed": false,
    "ExecuteTime": {
     "end_time": "2024-04-23T19:09:07.512842Z",
     "start_time": "2024-04-23T19:08:59.121843Z"
    }
   },
   "id": "d2ff87d8b842849",
   "execution_count": 213
  },
  {
   "cell_type": "code",
   "outputs": [],
   "source": [],
   "metadata": {
    "collapsed": false,
    "ExecuteTime": {
     "end_time": "2024-04-23T19:09:07.517317Z",
     "start_time": "2024-04-23T19:09:07.514841Z"
    }
   },
   "id": "ca5420b8aa700ee6",
   "execution_count": 213
  }
 ],
 "metadata": {
  "kernelspec": {
   "display_name": "Python 3",
   "language": "python",
   "name": "python3"
  },
  "language_info": {
   "codemirror_mode": {
    "name": "ipython",
    "version": 2
   },
   "file_extension": ".py",
   "mimetype": "text/x-python",
   "name": "python",
   "nbconvert_exporter": "python",
   "pygments_lexer": "ipython2",
   "version": "2.7.6"
  }
 },
 "nbformat": 4,
 "nbformat_minor": 5
}
