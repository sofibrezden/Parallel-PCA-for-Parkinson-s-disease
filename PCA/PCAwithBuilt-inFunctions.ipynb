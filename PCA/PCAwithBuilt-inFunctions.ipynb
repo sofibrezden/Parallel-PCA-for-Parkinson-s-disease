{
 "cells": [
  {
   "cell_type": "code",
   "outputs": [],
   "source": [
    "# Standardize data\n",
    "import pandas as pd\n",
    "import numpy as np\n",
    "import matplotlib.pyplot as plt\n",
    "df = pd.read_csv(\"raw_dataset.csv\")\n",
    "X = df.iloc[:, :].values.copy()\n",
    "target_all_total = df['total_UPDRS'].values\n",
    "target_all_motor = df['motor_UPDRS'].values\n",
    "mean = np.mean(X, axis=0)\n",
    "scale = np.std(X, axis=0)\n",
    "X_std = (X - mean) / scale\n"
   ],
   "metadata": {
    "collapsed": false,
    "ExecuteTime": {
     "end_time": "2024-04-23T18:03:14.983654Z",
     "start_time": "2024-04-23T18:03:14.949041Z"
    }
   },
   "id": "f669dd98de863fa5",
   "execution_count": 92
  },
  {
   "cell_type": "code",
   "outputs": [],
   "source": [
    "# Eigendecomposition of covariance matrix\n",
    "cov_mat = np.cov(X_std.T)"
   ],
   "metadata": {
    "collapsed": false,
    "ExecuteTime": {
     "end_time": "2024-04-23T18:03:15.476012Z",
     "start_time": "2024-04-23T18:03:15.468313Z"
    }
   },
   "id": "70008c169103edb6",
   "execution_count": 93
  },
  {
   "cell_type": "code",
   "outputs": [],
   "source": [
    "from numpy import array,identity,diagonal\n",
    "from math import sqrt\n",
    "\n",
    "def jacobi(a,tol = 1.0e-9): # Jacobi method\n",
    "\n",
    "    def maxElem(a): # Find largest off-diag. element a[k,l]\n",
    "        n = len(a)\n",
    "        aMax = 0.0\n",
    "        for i in range(n-1):\n",
    "            for j in range(i+1,n):\n",
    "                if abs(a[i,j]) >= aMax:\n",
    "                    aMax = abs(a[i,j])\n",
    "                    k = i; l = j\n",
    "        return aMax,k,l\n",
    "\n",
    "    def rotate(a,p,k,l): # Rotate to make a[k,l] = 0\n",
    "        n = len(a)\n",
    "        aDiff = a[l,l] - a[k,k]\n",
    "        if abs(a[k,l]) < abs(aDiff)*1.0e-36: t = a[k,l]/aDiff\n",
    "        else:\n",
    "            phi = aDiff/(2.0*a[k,l])\n",
    "            t = 1.0/(abs(phi) + sqrt(phi**2 + 1.0))\n",
    "            if phi < 0.0: t = -t\n",
    "        c = 1.0/sqrt(t**2 + 1.0); s = t*c\n",
    "        tau = s/(1.0 + c)\n",
    "        temp = a[k,l]\n",
    "        a[k,l] = 0.0\n",
    "        a[k,k] = a[k,k] - t*temp\n",
    "        a[l,l] = a[l,l] + t*temp\n",
    "        for i in range(k):      # Case of i < k\n",
    "            temp = a[i,k]\n",
    "            a[i,k] = temp - s*(a[i,l] + tau*temp)\n",
    "            a[i,l] = a[i,l] + s*(temp - tau*a[i,l])\n",
    "        for i in range(k+1,l):  # Case of k < i < l\n",
    "            temp = a[k,i]\n",
    "            a[k,i] = temp - s*(a[i,l] + tau*a[k,i])\n",
    "            a[i,l] = a[i,l] + s*(temp - tau*a[i,l])\n",
    "        for i in range(l+1,n):  # Case of i > l\n",
    "            temp = a[k,i]\n",
    "            a[k,i] = temp - s*(a[l,i] + tau*temp)\n",
    "            a[l,i] = a[l,i] + s*(temp - tau*a[l,i])\n",
    "        for i in range(n):      # Update transformation matrix\n",
    "            temp = p[i,k]\n",
    "            p[i,k] = temp - s*(p[i,l] + tau*p[i,k])\n",
    "            p[i,l] = p[i,l] + s*(temp - tau*p[i,l])\n",
    "        \n",
    "    n = len(a)\n",
    "    maxRot = 5*(n**2)       # Set limit on number of rotations\n",
    "    p = identity(n)*1.0     # Initialize transformation matrix\n",
    "    for i in range(maxRot): # Jacobi rotation loop \n",
    "        aMax,k,l = maxElem(a)\n",
    "        if aMax < tol: return diagonal(a),p\n",
    "        rotate(a,p,k,l)\n",
    "    print ('Jacobi method did not converge')"
   ],
   "metadata": {
    "collapsed": false,
    "ExecuteTime": {
     "end_time": "2024-04-23T18:03:15.986499Z",
     "start_time": "2024-04-23T18:03:15.975156Z"
    }
   },
   "id": "4c63cbc6a95230a9",
   "execution_count": 94
  },
  {
   "cell_type": "code",
   "outputs": [],
   "source": [
    "eig_vals,eig_vecs=jacobi(cov_mat)"
   ],
   "metadata": {
    "collapsed": false,
    "ExecuteTime": {
     "end_time": "2024-04-23T18:03:16.973970Z",
     "start_time": "2024-04-23T18:03:16.877432Z"
    }
   },
   "id": "8d54b4d919dcbfc6",
   "execution_count": 95
  },
  {
   "cell_type": "code",
   "outputs": [],
   "source": [
    "# Adjusting the eigenvectors that are largest in absolute value to be positive\n",
    "max_abs_idx = np.argmax(np.abs(eig_vecs), axis=0)\n",
    "signs = np.sign(eig_vecs[max_abs_idx, range(eig_vecs.shape[0])])\n",
    "eig_vecs = eig_vecs * signs[np.newaxis, :]\n",
    "eig_vecs = eig_vecs.T\n",
    "\n",
    "eig_pairs = [(np.abs(eig_vals[i]), eig_vecs[i, :]) for i in range(len(eig_vals))]\n",
    "eig_pairs.sort(key=lambda x: x[0], reverse=True)\n",
    "eig_vals_sorted = np.array([x[0] for x in eig_pairs])\n",
    "eig_vecs_sorted = np.array([x[1] for x in eig_pairs])\n",
    "n_components = 11\n",
    "components = eig_vecs_sorted[:n_components, :]\n",
    "\n"
   ],
   "metadata": {
    "collapsed": false,
    "ExecuteTime": {
     "end_time": "2024-04-23T18:03:17.614103Z",
     "start_time": "2024-04-23T18:03:17.607450Z"
    }
   },
   "id": "860cf893f7d975df",
   "execution_count": 96
  },
  {
   "cell_type": "code",
   "outputs": [],
   "source": [
    "# Explained variance ratio\n",
    "explained_variance_ratio = [i / np.sum(eig_vals) for i in eig_vals_sorted[:n_components]]\n",
    "\n",
    "cum_explained_variance = np.cumsum(explained_variance_ratio)"
   ],
   "metadata": {
    "collapsed": false,
    "ExecuteTime": {
     "end_time": "2024-04-23T18:03:18.667083Z",
     "start_time": "2024-04-23T18:03:18.660554Z"
    }
   },
   "id": "e7fba5b46b4fa224",
   "execution_count": 97
  },
  {
   "cell_type": "code",
   "outputs": [
    {
     "name": "stdout",
     "output_type": "stream",
     "text": [
      "Components:\n",
      " [[ 5.45335563e-02  2.73216904e-02  1.06219527e-02 -9.58278928e-03\n",
      "   4.12278663e-02  3.94275708e-02  2.65414048e-01  2.47925771e-01\n",
      "   2.57459296e-01  2.63550999e-01  2.57460801e-01  2.77600822e-01\n",
      "   2.77946432e-01  2.67976258e-01  2.73501681e-01  2.61317108e-01\n",
      "   2.67975837e-01  2.57408554e-01 -2.56673062e-01  1.67637721e-01\n",
      "   6.88921201e-02  2.29915396e-01]\n",
      " [ 2.15210580e-01  3.19141812e-01 -3.49677669e-02  7.59962227e-02\n",
      "   6.12995629e-01  6.21577338e-01 -8.68806318e-02 -8.06341566e-02\n",
      "  -9.99935726e-02 -8.75571432e-02 -9.99851127e-02  1.56923101e-02\n",
      "   2.06659414e-02  9.15807425e-03  1.00434080e-02  5.31989865e-02\n",
      "   9.15826377e-03 -4.61827040e-02 -6.08370981e-02  9.29058246e-02\n",
      "  -1.47154010e-01  3.32977985e-02]\n",
      " [ 9.78598147e-03 -4.65453974e-02 -2.73951686e-01  6.50137727e-02\n",
      "   1.18781932e-01  1.37582583e-01  2.32914727e-01  3.14219183e-01\n",
      "   2.33653740e-01  1.56304828e-01  2.33659971e-01 -2.45401667e-01\n",
      "  -2.33699290e-01 -2.67629532e-01 -2.59909702e-01 -2.23161019e-01\n",
      "  -2.67630807e-01 -5.67899724e-02 -6.34386015e-03  1.47928090e-01\n",
      "   3.52446262e-01  2.72045283e-01]\n",
      " [ 3.08752212e-01 -1.46865538e-01  5.76451705e-01  1.06869120e-02\n",
      "   1.01824321e-01  6.06281156e-02  2.01046784e-01 -4.47367669e-02\n",
      "   2.33634265e-01  2.30418335e-01  2.33628946e-01 -8.25394622e-02\n",
      "  -8.08655403e-02 -1.12085990e-01 -7.86165034e-02 -1.37522543e-01\n",
      "  -1.12085939e-01  2.20241933e-01  1.60801518e-01 -2.85875214e-01\n",
      "  -3.04100938e-01 -1.40816937e-01]\n",
      " [ 6.60451300e-01 -3.12628216e-01  2.68882231e-01 -4.44368652e-02\n",
      "  -4.20548957e-02 -5.73604857e-02 -1.26065959e-01 -5.93382304e-02\n",
      "  -1.45019985e-01 -1.37849867e-01 -1.45014950e-01  1.00986185e-02\n",
      "   2.07801793e-03  1.47662857e-04  1.08577325e-02  7.11868448e-02\n",
      "   1.46847632e-04 -1.11161226e-01 -1.78318150e-01  1.92983962e-01\n",
      "   4.54087823e-01  1.15653095e-01]\n",
      " [-2.30389153e-02 -6.16829990e-02  2.84519612e-02  9.78503390e-01\n",
      "  -2.31754094e-02 -2.48459866e-02 -1.39479264e-02 -1.44932634e-02\n",
      "  -1.65149191e-02 -4.71840134e-03 -1.65026691e-02  3.29867941e-02\n",
      "   3.17963173e-02  4.53300889e-02  3.34303588e-02  1.94399515e-02\n",
      "   4.53337512e-02 -1.09249212e-02  2.75232429e-02 -1.24411781e-01\n",
      "   1.05451342e-01 -8.93814260e-03]\n",
      " [ 5.33404557e-02  8.42421539e-01  3.61906643e-01  2.35377048e-02\n",
      "  -2.02407154e-01 -1.89664198e-01  1.84144584e-02  1.07764467e-02\n",
      "   1.80971072e-02 -7.00248176e-03  1.80915716e-02 -4.36688684e-02\n",
      "  -3.44588841e-02 -4.98465293e-02 -5.35851995e-02 -4.07655523e-03\n",
      "  -4.98454591e-02 -7.88620312e-02 -4.49376807e-02 -8.77801632e-03\n",
      "   1.98097800e-01  1.39068479e-01]\n",
      " [ 7.64875558e-02  3.18745878e-03  5.53505588e-02  1.66689005e-01\n",
      "  -1.63473836e-01 -1.29909859e-01 -2.49973778e-02  6.57565078e-02\n",
      "  -6.15792923e-02 -4.15218897e-02 -6.15949212e-02 -7.61596389e-02\n",
      "  -6.26327968e-02 -1.12463091e-01 -8.33241707e-02 -8.41615839e-02\n",
      "  -1.12469400e-01  1.68516707e-01 -1.67208903e-01  7.12869368e-01\n",
      "  -5.35552013e-01  7.09194426e-02]\n",
      " [ 6.33260134e-01  2.20351286e-01 -5.89407176e-01  2.89512791e-02\n",
      "  -2.07940408e-01 -1.24062044e-01  4.80846383e-02  3.78625041e-02\n",
      "   3.39620458e-02  6.73642327e-02  3.39809726e-02  2.42102637e-02\n",
      "   1.86661975e-02  8.05454300e-03  1.96440369e-02  2.91416150e-02\n",
      "   8.05445146e-03  6.75054526e-02  1.80613187e-01 -1.84612766e-01\n",
      "  -1.94243986e-01 -1.47225680e-01]\n",
      " [ 3.37502525e-02 -8.89705246e-02 -8.18819017e-03 -1.36141613e-02\n",
      "  -1.81881768e-02 -7.20234344e-02 -5.99367948e-02  1.12924111e-01\n",
      "  -1.34220519e-01 -1.02251756e-01 -1.34204531e-01 -2.88618514e-02\n",
      "   2.14659347e-02 -4.78808975e-02 -4.09831514e-02  3.00755934e-02\n",
      "  -4.78778423e-02 -2.88772141e-02 -1.77507075e-01 -4.32872873e-01\n",
      "  -3.27360727e-01  7.66158889e-01]\n",
      " [-8.00564386e-02  3.08863683e-02 -9.23993060e-02 -1.70408812e-03\n",
      "   3.63232650e-02 -2.60963599e-02 -4.04066869e-03 -3.12821564e-01\n",
      "  -1.92159291e-01  2.83777942e-01 -1.92115922e-01 -3.40814363e-02\n",
      "  -3.14414630e-03 -3.39072818e-01  1.25541579e-01  3.28345589e-01\n",
      "  -3.39074956e-01  5.77794696e-01 -6.31246602e-02 -4.11534078e-02\n",
      "   1.85660494e-01  3.43331143e-02]]\n",
      "Explained variance ratio from scratch:\n",
      " [0.5149570602247509, 0.10168190502149665, 0.07732904265697066, 0.06737054878068792, 0.053099048506731236, 0.045364991591095645, 0.0373002516604694, 0.03227583826655663, 0.02300638807327764, 0.013312809894406315, 0.009239838992821103]\n",
      "Cumulative explained variance from scratch:\n",
      " [0.51495706 0.61663897 0.69396801 0.76133856 0.81443761 0.8598026\n",
      " 0.89710285 0.92937869 0.95238507 0.96569788 0.97493772]\n",
      "Transformed data shape from scratch: (5875, 11)\n"
     ]
    },
    {
     "data": {
      "text/plain": "<Figure size 640x480 with 1 Axes>",
      "image/png": "[encoded data removed]"
     },
     "metadata": {},
     "output_type": "display_data"
    }
   ],
   "source": [
    "# Transform data\n",
    "X_proj = X_std.dot(components.T)\n",
    "\n",
    "print('Components:\\n', components)\n",
    "print('Explained variance ratio from scratch:\\n', explained_variance_ratio)\n",
    "print('Cumulative explained variance from scratch:\\n', cum_explained_variance)\n",
    "\n",
    "plt.plot(np.cumsum(explained_variance_ratio))\n",
    "plt.xlabel('number of components')\n",
    "plt.ylabel('cumulative explained variance')\n",
    "\n",
    "print('Transformed data shape from scratch:', X_proj.shape)"
   ],
   "metadata": {
    "collapsed": false,
    "ExecuteTime": {
     "end_time": "2024-04-23T18:03:19.756990Z",
     "start_time": "2024-04-23T18:03:19.352138Z"
    }
   },
   "id": "c3a77d83b0f8488d",
   "execution_count": 98
  },
  {
   "cell_type": "code",
   "outputs": [
    {
     "name": "stdout",
     "output_type": "stream",
     "text": [
      "Components:\n",
      " [[ 5.45335563e-02  2.73216904e-02  1.06219527e-02 -9.58278928e-03\n",
      "   4.12278663e-02  3.94275708e-02  2.65414048e-01  2.47925771e-01\n",
      "   2.57459296e-01  2.63550999e-01  2.57460801e-01  2.77600822e-01\n",
      "   2.77946432e-01  2.67976258e-01  2.73501681e-01  2.61317108e-01\n",
      "   2.67975837e-01  2.57408554e-01 -2.56673062e-01  1.67637721e-01\n",
      "   6.88921201e-02  2.29915396e-01]\n",
      " [-2.15210581e-01 -3.19141812e-01  3.49677662e-02 -7.59962225e-02\n",
      "  -6.12995629e-01 -6.21577338e-01  8.68806315e-02  8.06341566e-02\n",
      "   9.99935723e-02  8.75571428e-02  9.99851124e-02 -1.56923099e-02\n",
      "  -2.06659413e-02 -9.15807408e-03 -1.00434079e-02 -5.31989863e-02\n",
      "  -9.15826360e-03  4.61827038e-02  6.08370979e-02 -9.29058242e-02\n",
      "   1.47154011e-01 -3.32977983e-02]\n",
      " [-9.78598147e-03  4.65453974e-02  2.73951686e-01 -6.50137727e-02\n",
      "  -1.18781932e-01 -1.37582583e-01 -2.32914727e-01 -3.14219183e-01\n",
      "  -2.33653740e-01 -1.56304828e-01 -2.33659971e-01  2.45401667e-01\n",
      "   2.33699290e-01  2.67629532e-01  2.59909702e-01  2.23161019e-01\n",
      "   2.67630808e-01  5.67899724e-02  6.34386015e-03 -1.47928090e-01\n",
      "  -3.52446262e-01 -2.72045283e-01]\n",
      " [ 3.08752212e-01 -1.46865538e-01  5.76451705e-01  1.06869119e-02\n",
      "   1.01824321e-01  6.06281148e-02  2.01046784e-01 -4.47367668e-02\n",
      "   2.33634265e-01  2.30418335e-01  2.33628946e-01 -8.25394622e-02\n",
      "  -8.08655403e-02 -1.12085990e-01 -7.86165034e-02 -1.37522543e-01\n",
      "  -1.12085939e-01  2.20241933e-01  1.60801518e-01 -2.85875214e-01\n",
      "  -3.04100938e-01 -1.40816937e-01]\n",
      " [-6.60451300e-01  3.12628216e-01 -2.68882231e-01  4.44368652e-02\n",
      "   4.20548957e-02  5.73604857e-02  1.26065959e-01  5.93382304e-02\n",
      "   1.45019985e-01  1.37849867e-01  1.45014950e-01 -1.00986181e-02\n",
      "  -2.07801815e-03 -1.47662881e-04 -1.08577326e-02 -7.11868450e-02\n",
      "  -1.46847656e-04  1.11161226e-01  1.78318150e-01 -1.92983962e-01\n",
      "  -4.54087823e-01 -1.15653096e-01]\n",
      " [-2.30389153e-02 -6.16829989e-02  2.84519611e-02  9.78503390e-01\n",
      "  -2.31754092e-02 -2.48459864e-02 -1.39479264e-02 -1.44932634e-02\n",
      "  -1.65149191e-02 -4.71840133e-03 -1.65026693e-02  3.29867943e-02\n",
      "   3.17963171e-02  4.53300891e-02  3.34303586e-02  1.94399514e-02\n",
      "   4.53337514e-02 -1.09249211e-02  2.75232427e-02 -1.24411782e-01\n",
      "   1.05451342e-01 -8.93814278e-03]\n",
      " [ 5.33404557e-02  8.42421539e-01  3.61906643e-01  2.35377048e-02\n",
      "  -2.02407154e-01 -1.89664198e-01  1.84144586e-02  1.07764467e-02\n",
      "   1.80971072e-02 -7.00248175e-03  1.80915716e-02 -4.36688682e-02\n",
      "  -3.44588839e-02 -4.98465293e-02 -5.35851996e-02 -4.07655529e-03\n",
      "  -4.98454591e-02 -7.88620313e-02 -4.49376807e-02 -8.77801652e-03\n",
      "   1.98097801e-01  1.39068479e-01]\n",
      " [-7.64875558e-02 -3.18745896e-03 -5.53505589e-02 -1.66689006e-01\n",
      "   1.63473836e-01  1.29909859e-01  2.49973778e-02 -6.57565078e-02\n",
      "   6.15792923e-02  4.15218899e-02  6.15949211e-02  7.61596389e-02\n",
      "   6.26327968e-02  1.12463091e-01  8.33241708e-02  8.41615839e-02\n",
      "   1.12469400e-01 -1.68516707e-01  1.67208903e-01 -7.12869368e-01\n",
      "   5.35552013e-01 -7.09194427e-02]\n",
      " [ 6.33260134e-01  2.20351286e-01 -5.89407175e-01  2.89512791e-02\n",
      "  -2.07940409e-01 -1.24062044e-01  4.80846385e-02  3.78625041e-02\n",
      "   3.39620455e-02  6.73642333e-02  3.39809723e-02  2.42102640e-02\n",
      "   1.86661981e-02  8.05454249e-03  1.96440362e-02  2.91416154e-02\n",
      "   8.05445095e-03  6.75054529e-02  1.80613187e-01 -1.84612766e-01\n",
      "  -1.94243986e-01 -1.47225680e-01]\n",
      " [-3.37502533e-02  8.89705247e-02  8.18818975e-03  1.36141614e-02\n",
      "   1.81881759e-02  7.20234354e-02  5.99367946e-02 -1.12924112e-01\n",
      "   1.34220519e-01  1.02251759e-01  1.34204528e-01  2.88618497e-02\n",
      "  -2.14659343e-02  4.78808938e-02  4.09831528e-02 -3.00755883e-02\n",
      "   4.78778386e-02  2.88772183e-02  1.77507073e-01  4.32872873e-01\n",
      "   3.27360728e-01 -7.66158890e-01]\n",
      " [ 8.00564389e-02 -3.08863678e-02  9.23993041e-02  1.70408863e-03\n",
      "  -3.63232654e-02  2.60963596e-02  4.04067110e-03  3.12821554e-01\n",
      "   1.92159295e-01 -2.83777937e-01  1.92115926e-01  3.40814357e-02\n",
      "   3.14414484e-03  3.39072819e-01 -1.25541582e-01 -3.28345585e-01\n",
      "   3.39074957e-01 -5.77794703e-01  6.31246571e-02  4.11534119e-02\n",
      "  -1.85660493e-01 -3.43331205e-02]]\n",
      "Explained variance ratio:\n",
      " [0.51495706 0.10168191 0.07732904 0.06737055 0.05309905 0.04536499\n",
      " 0.03730025 0.03227584 0.02300639 0.01331281 0.00923984]\n",
      "Cumulative explained variance:\n",
      " [0.51495706 0.61663897 0.69396801 0.76133856 0.81443761 0.8598026\n",
      " 0.89710285 0.92937869 0.95238507 0.96569788 0.97493772]\n",
      "Transformed data shape: (5875, 11)\n"
     ]
    },
    {
     "data": {
      "text/plain": "<Figure size 640x480 with 1 Axes>",
      "image/png": "[encoded data removed]"
     },
     "metadata": {},
     "output_type": "display_data"
    }
   ],
   "source": [
    "from sklearn.preprocessing import StandardScaler\n",
    "X_std = StandardScaler().fit_transform(X)\n",
    "\n",
    "from sklearn.decomposition import PCA\n",
    "pca = PCA(n_components = 11).fit(X_std)\n",
    "\n",
    "print('Components:\\n', pca.components_)\n",
    "print('Explained variance ratio:\\n', pca.explained_variance_ratio_)\n",
    "\n",
    "cum_explained_variance = np.cumsum(pca.explained_variance_ratio_)\n",
    "print('Cumulative explained variance:\\n', cum_explained_variance)\n",
    "\n",
    "X_pca = pca.transform(X_std) # Apply dimensionality reduction to X.\n",
    "print('Transformed data shape:', X_pca.shape)\n",
    "\n",
    "plt.scatter(X_pca[:, 0], X_pca[:, 1], c = y)\n",
    "plt.xlabel('PC1'); plt.xticks([])\n",
    "plt.ylabel('PC2'); plt.yticks([])\n",
    "plt.title('2 components, captures {}% of total variation'.format(cum_explained_variance[1].round(4)*100))\n",
    "plt.show()"
   ],
   "metadata": {
    "collapsed": false,
    "ExecuteTime": {
     "end_time": "2024-04-23T18:03:53.628048Z",
     "start_time": "2024-04-23T18:03:53.297219Z"
    }
   },
   "id": "178be7e88771902a",
   "execution_count": 99
  },
  {
   "cell_type": "code",
   "outputs": [],
   "source": [
    "df.drop(['subject#'],axis=1,inplace=True)"
   ],
   "metadata": {
    "collapsed": false,
    "ExecuteTime": {
     "end_time": "2024-04-23T17:24:52.034623Z",
     "start_time": "2024-04-23T17:24:52.010251Z"
    }
   },
   "id": "50f8bf5dccf7e405",
   "execution_count": 59
  },
  {
   "cell_type": "code",
   "outputs": [
    {
     "data": {
      "text/plain": "   age  sex  test_time  motor_UPDRS  total_UPDRS  Jitter(%)  Jitter(Abs)  \\\n0   72    0     5.6431       28.199       34.398    0.00662     0.000034   \n1   72    0    12.6660       28.447       34.894    0.00300     0.000017   \n2   72    0    19.6810       28.695       35.389    0.00481     0.000025   \n3   72    0    25.6470       28.905       35.810    0.00528     0.000027   \n4   72    0    33.6420       29.187       36.375    0.00335     0.000020   \n\n   Jitter:RAP  Jitter:PPQ5  Jitter:DDP  ...  Shimmer(dB)  Shimmer:APQ3  \\\n0     0.00401      0.00317     0.01204  ...        0.230       0.01438   \n1     0.00132      0.00150     0.00395  ...        0.179       0.00994   \n2     0.00205      0.00208     0.00616  ...        0.181       0.00734   \n3     0.00191      0.00264     0.00573  ...        0.327       0.01106   \n4     0.00093      0.00130     0.00278  ...        0.176       0.00679   \n\n   Shimmer:APQ5  Shimmer:APQ11  Shimmer:DDA       NHR     HNR     RPDE  \\\n0       0.01309        0.01662      0.04314  0.014290  21.640  0.41888   \n1       0.01072        0.01689      0.02982  0.011112  27.183  0.43493   \n2       0.00844        0.01458      0.02202  0.020220  23.047  0.46222   \n3       0.01265        0.01963      0.03317  0.027837  24.445  0.48730   \n4       0.00929        0.01819      0.02036  0.011625  26.126  0.47188   \n\n       DFA      PPE  \n0  0.54842  0.16006  \n1  0.56477  0.10810  \n2  0.54405  0.21014  \n3  0.57794  0.33277  \n4  0.56122  0.19361  \n\n[5 rows x 21 columns]",
      "text/html": "<div>\n<style scoped>\n    .dataframe tbody tr th:only-of-type {\n        vertical-align: middle;\n    }\n\n    .dataframe tbody tr th {\n        vertical-align: top;\n    }\n\n    .dataframe thead th {\n        text-align: right;\n    }\n</style>\n<table border=\"1\" class=\"dataframe\">\n  <thead>\n    <tr style=\"text-align: right;\">\n      <th></th>\n      <th>age</th>\n      <th>sex</th>\n      <th>test_time</th>\n      <th>motor_UPDRS</th>\n      <th>total_UPDRS</th>\n      <th>Jitter(%)</th>\n      <th>Jitter(Abs)</th>\n      <th>Jitter:RAP</th>\n      <th>Jitter:PPQ5</th>\n      <th>Jitter:DDP</th>\n      <th>...</th>\n      <th>Shimmer(dB)</th>\n      <th>Shimmer:APQ3</th>\n      <th>Shimmer:APQ5</th>\n      <th>Shimmer:APQ11</th>\n      <th>Shimmer:DDA</th>\n      <th>NHR</th>\n      <th>HNR</th>\n      <th>RPDE</th>\n      <th>DFA</th>\n      <th>PPE</th>\n    </tr>\n  </thead>\n  <tbody>\n    <tr>\n      <th>0</th>\n      <td>72</td>\n      <td>0</td>\n      <td>5.6431</td>\n      <td>28.199</td>\n      <td>34.398</td>\n      <td>0.00662</td>\n      <td>0.000034</td>\n      <td>0.00401</td>\n      <td>0.00317</td>\n      <td>0.01204</td>\n      <td>...</td>\n      <td>0.230</td>\n      <td>0.01438</td>\n      <td>0.01309</td>\n      <td>0.01662</td>\n      <td>0.04314</td>\n      <td>0.014290</td>\n      <td>21.640</td>\n      <td>0.41888</td>\n      <td>0.54842</td>\n      <td>0.16006</td>\n    </tr>\n    <tr>\n      <th>1</th>\n      <td>72</td>\n      <td>0</td>\n      <td>12.6660</td>\n      <td>28.447</td>\n      <td>34.894</td>\n      <td>0.00300</td>\n      <td>0.000017</td>\n      <td>0.00132</td>\n      <td>0.00150</td>\n      <td>0.00395</td>\n      <td>...</td>\n      <td>0.179</td>\n      <td>0.00994</td>\n      <td>0.01072</td>\n      <td>0.01689</td>\n      <td>0.02982</td>\n      <td>0.011112</td>\n      <td>27.183</td>\n      <td>0.43493</td>\n      <td>0.56477</td>\n      <td>0.10810</td>\n    </tr>\n    <tr>\n      <th>2</th>\n      <td>72</td>\n      <td>0</td>\n      <td>19.6810</td>\n      <td>28.695</td>\n      <td>35.389</td>\n      <td>0.00481</td>\n      <td>0.000025</td>\n      <td>0.00205</td>\n      <td>0.00208</td>\n      <td>0.00616</td>\n      <td>...</td>\n      <td>0.181</td>\n      <td>0.00734</td>\n      <td>0.00844</td>\n      <td>0.01458</td>\n      <td>0.02202</td>\n      <td>0.020220</td>\n      <td>23.047</td>\n      <td>0.46222</td>\n      <td>0.54405</td>\n      <td>0.21014</td>\n    </tr>\n    <tr>\n      <th>3</th>\n      <td>72</td>\n      <td>0</td>\n      <td>25.6470</td>\n      <td>28.905</td>\n      <td>35.810</td>\n      <td>0.00528</td>\n      <td>0.000027</td>\n      <td>0.00191</td>\n      <td>0.00264</td>\n      <td>0.00573</td>\n      <td>...</td>\n      <td>0.327</td>\n      <td>0.01106</td>\n      <td>0.01265</td>\n      <td>0.01963</td>\n      <td>0.03317</td>\n      <td>0.027837</td>\n      <td>24.445</td>\n      <td>0.48730</td>\n      <td>0.57794</td>\n      <td>0.33277</td>\n    </tr>\n    <tr>\n      <th>4</th>\n      <td>72</td>\n      <td>0</td>\n      <td>33.6420</td>\n      <td>29.187</td>\n      <td>36.375</td>\n      <td>0.00335</td>\n      <td>0.000020</td>\n      <td>0.00093</td>\n      <td>0.00130</td>\n      <td>0.00278</td>\n      <td>...</td>\n      <td>0.176</td>\n      <td>0.00679</td>\n      <td>0.00929</td>\n      <td>0.01819</td>\n      <td>0.02036</td>\n      <td>0.011625</td>\n      <td>26.126</td>\n      <td>0.47188</td>\n      <td>0.56122</td>\n      <td>0.19361</td>\n    </tr>\n  </tbody>\n</table>\n<p>5 rows × 21 columns</p>\n</div>"
     },
     "execution_count": 60,
     "metadata": {},
     "output_type": "execute_result"
    }
   ],
   "source": [
    "df.head()"
   ],
   "metadata": {
    "collapsed": false,
    "ExecuteTime": {
     "end_time": "2024-04-23T17:24:52.770623Z",
     "start_time": "2024-04-23T17:24:52.750586Z"
    }
   },
   "id": "d77082a3f923f35f",
   "execution_count": 60
  },
  {
   "cell_type": "code",
   "outputs": [
    {
     "data": {
      "text/plain": "Index(['age', 'sex', 'test_time', 'motor_UPDRS', 'total_UPDRS', 'Jitter(%)',\n       'Jitter(Abs)', 'Jitter:RAP', 'Jitter:PPQ5', 'Jitter:DDP', 'Shimmer',\n       'Shimmer(dB)', 'Shimmer:APQ3', 'Shimmer:APQ5', 'Shimmer:APQ11',\n       'Shimmer:DDA', 'NHR', 'HNR', 'RPDE', 'DFA', 'PPE'],\n      dtype='object')"
     },
     "execution_count": 61,
     "metadata": {},
     "output_type": "execute_result"
    }
   ],
   "source": [
    "df.columns"
   ],
   "metadata": {
    "collapsed": false,
    "ExecuteTime": {
     "end_time": "2024-04-23T17:24:54.087874Z",
     "start_time": "2024-04-23T17:24:54.082312Z"
    }
   },
   "id": "da040b8b6e0053d7",
   "execution_count": 61
  },
  {
   "cell_type": "code",
   "outputs": [],
   "source": [
    "X = df[['age', 'sex', 'test_time', 'motor_UPDRS', 'total_UPDRS',\n",
    "       'Jitter(%)', 'Jitter(Abs)', 'Jitter:RAP', 'Jitter:PPQ5', 'Jitter:DDP',\n",
    "       'Shimmer', 'Shimmer(dB)', 'Shimmer:APQ3', 'Shimmer:APQ5',\n",
    "       'Shimmer:APQ11', 'Shimmer:DDA', 'NHR', 'HNR', 'RPDE', 'DFA', 'PPE']].values\n",
    "y= df['motor_UPDRS'].values"
   ],
   "metadata": {
    "collapsed": false,
    "ExecuteTime": {
     "end_time": "2024-04-23T17:24:54.888544Z",
     "start_time": "2024-04-23T17:24:54.881074Z"
    }
   },
   "id": "471e55e3faea3c5c",
   "execution_count": 62
  },
  {
   "cell_type": "code",
   "outputs": [],
   "source": [],
   "metadata": {
    "collapsed": false,
    "ExecuteTime": {
     "end_time": "2024-04-23T17:24:55.493090Z",
     "start_time": "2024-04-23T17:24:55.490089Z"
    }
   },
   "id": "75ef52f63885567d",
   "execution_count": 62
  },
  {
   "cell_type": "code",
   "outputs": [
    {
     "data": {
      "text/plain": "array([[7.2000e+01, 0.0000e+00, 5.6431e+00, ..., 4.1888e-01, 5.4842e-01,\n        1.6006e-01],\n       [7.2000e+01, 0.0000e+00, 1.2666e+01, ..., 4.3493e-01, 5.6477e-01,\n        1.0810e-01],\n       [7.2000e+01, 0.0000e+00, 1.9681e+01, ..., 4.6222e-01, 5.4405e-01,\n        2.1014e-01],\n       ...,\n       [6.1000e+01, 0.0000e+00, 1.5682e+02, ..., 4.7792e-01, 5.7888e-01,\n        1.4157e-01],\n       [6.1000e+01, 0.0000e+00, 1.6373e+02, ..., 5.6865e-01, 5.6327e-01,\n        1.4204e-01],\n       [6.1000e+01, 0.0000e+00, 1.7073e+02, ..., 5.8608e-01, 5.7077e-01,\n        1.5336e-01]])"
     },
     "execution_count": 63,
     "metadata": {},
     "output_type": "execute_result"
    }
   ],
   "source": [
    "X"
   ],
   "metadata": {
    "collapsed": false,
    "ExecuteTime": {
     "end_time": "2024-04-23T17:24:56.130702Z",
     "start_time": "2024-04-23T17:24:56.124430Z"
    }
   },
   "id": "f9fc701441ae6bc3",
   "execution_count": 63
  },
  {
   "cell_type": "code",
   "outputs": [
    {
     "data": {
      "text/plain": "array([28.199, 28.447, 28.695, ..., 21.495, 21.007, 20.513])"
     },
     "execution_count": 64,
     "metadata": {},
     "output_type": "execute_result"
    }
   ],
   "source": [
    "y"
   ],
   "metadata": {
    "collapsed": false,
    "ExecuteTime": {
     "end_time": "2024-04-23T17:24:56.957939Z",
     "start_time": "2024-04-23T17:24:56.943939Z"
    }
   },
   "id": "7d49d9d7dea4a65c",
   "execution_count": 64
  },
  {
   "cell_type": "code",
   "outputs": [],
   "source": [
    "from sklearn.preprocessing import StandardScaler\n",
    "sc_x = StandardScaler()\n",
    "sc_y = StandardScaler()\n",
    "X = sc_x.fit_transform(X)"
   ],
   "metadata": {
    "collapsed": false,
    "ExecuteTime": {
     "end_time": "2024-04-23T17:24:58.201233Z",
     "start_time": "2024-04-23T17:24:58.193286Z"
    }
   },
   "id": "bf69b7d63ee3c220",
   "execution_count": 65
  },
  {
   "cell_type": "code",
   "outputs": [],
   "source": [
    "y = np.array(y).reshape(-1, 1)\n",
    "y = sc_y.fit_transform(y)\n",
    "y = y.flatten()"
   ],
   "metadata": {
    "collapsed": false,
    "ExecuteTime": {
     "end_time": "2024-04-23T17:24:59.438374Z",
     "start_time": "2024-04-23T17:24:59.433229Z"
    }
   },
   "id": "e076733bfb907140",
   "execution_count": 66
  },
  {
   "cell_type": "code",
   "outputs": [],
   "source": [
    "from sklearn.model_selection import train_test_split\n",
    "X_train, X_test, y_train, y_test = train_test_split(X, y, test_size = 0.15, random_state=0)"
   ],
   "metadata": {
    "collapsed": false,
    "ExecuteTime": {
     "end_time": "2024-04-23T17:25:00.156796Z",
     "start_time": "2024-04-23T17:25:00.149262Z"
    }
   },
   "id": "cb51ee8547f351e5",
   "execution_count": 67
  },
  {
   "cell_type": "code",
   "outputs": [
    {
     "data": {
      "text/plain": "RandomForestRegressor(n_estimators=50, random_state=0)",
      "text/html": "<style>#sk-container-id-2 {\n  /* Definition of color scheme common for light and dark mode */\n  --sklearn-color-text: black;\n  --sklearn-color-line: gray;\n  /* Definition of color scheme for unfitted estimators */\n  --sklearn-color-unfitted-level-0: #fff5e6;\n  --sklearn-color-unfitted-level-1: #f6e4d2;\n  --sklearn-color-unfitted-level-2: #ffe0b3;\n  --sklearn-color-unfitted-level-3: chocolate;\n  /* Definition of color scheme for fitted estimators */\n  --sklearn-color-fitted-level-0: #f0f8ff;\n  --sklearn-color-fitted-level-1: #d4ebff;\n  --sklearn-color-fitted-level-2: #b3dbfd;\n  --sklearn-color-fitted-level-3: cornflowerblue;\n\n  /* Specific color for light theme */\n  --sklearn-color-text-on-default-background: var(--sg-text-color, var(--theme-code-foreground, var(--jp-content-font-color1, black)));\n  --sklearn-color-background: var(--sg-background-color, var(--theme-background, var(--jp-layout-color0, white)));\n  --sklearn-color-border-box: var(--sg-text-color, var(--theme-code-foreground, var(--jp-content-font-color1, black)));\n  --sklearn-color-icon: #696969;\n\n  @media (prefers-color-scheme: dark) {\n    /* Redefinition of color scheme for dark theme */\n    --sklearn-color-text-on-default-background: var(--sg-text-color, var(--theme-code-foreground, var(--jp-content-font-color1, white)));\n    --sklearn-color-background: var(--sg-background-color, var(--theme-background, var(--jp-layout-color0, #111)));\n    --sklearn-color-border-box: var(--sg-text-color, var(--theme-code-foreground, var(--jp-content-font-color1, white)));\n    --sklearn-color-icon: #878787;\n  }\n}\n\n#sk-container-id-2 {\n  color: var(--sklearn-color-text);\n}\n\n#sk-container-id-2 pre {\n  padding: 0;\n}\n\n#sk-container-id-2 input.sk-hidden--visually {\n  border: 0;\n  clip: rect(1px 1px 1px 1px);\n  clip: rect(1px, 1px, 1px, 1px);\n  height: 1px;\n  margin: -1px;\n  overflow: hidden;\n  padding: 0;\n  position: absolute;\n  width: 1px;\n}\n\n#sk-container-id-2 div.sk-dashed-wrapped {\n  border: 1px dashed var(--sklearn-color-line);\n  margin: 0 0.4em 0.5em 0.4em;\n  box-sizing: border-box;\n  padding-bottom: 0.4em;\n  background-color: var(--sklearn-color-background);\n}\n\n#sk-container-id-2 div.sk-container {\n  /* jupyter's `normalize.less` sets `[hidden] { display: none; }`\n     but bootstrap.min.css set `[hidden] { display: none !important; }`\n     so we also need the `!important` here to be able to override the\n     default hidden behavior on the sphinx rendered scikit-learn.org.\n     See: https://github.com/scikit-learn/scikit-learn/issues/21755 */\n  display: inline-block !important;\n  position: relative;\n}\n\n#sk-container-id-2 div.sk-text-repr-fallback {\n  display: none;\n}\n\ndiv.sk-parallel-item,\ndiv.sk-serial,\ndiv.sk-item {\n  /* draw centered vertical line to link estimators */\n  background-image: linear-gradient(var(--sklearn-color-text-on-default-background), var(--sklearn-color-text-on-default-background));\n  background-size: 2px 100%;\n  background-repeat: no-repeat;\n  background-position: center center;\n}\n\n/* Parallel-specific style estimator block */\n\n#sk-container-id-2 div.sk-parallel-item::after {\n  content: \"\";\n  width: 100%;\n  border-bottom: 2px solid var(--sklearn-color-text-on-default-background);\n  flex-grow: 1;\n}\n\n#sk-container-id-2 div.sk-parallel {\n  display: flex;\n  align-items: stretch;\n  justify-content: center;\n  background-color: var(--sklearn-color-background);\n  position: relative;\n}\n\n#sk-container-id-2 div.sk-parallel-item {\n  display: flex;\n  flex-direction: column;\n}\n\n#sk-container-id-2 div.sk-parallel-item:first-child::after {\n  align-self: flex-end;\n  width: 50%;\n}\n\n#sk-container-id-2 div.sk-parallel-item:last-child::after {\n  align-self: flex-start;\n  width: 50%;\n}\n\n#sk-container-id-2 div.sk-parallel-item:only-child::after {\n  width: 0;\n}\n\n/* Serial-specific style estimator block */\n\n#sk-container-id-2 div.sk-serial {\n  display: flex;\n  flex-direction: column;\n  align-items: center;\n  background-color: var(--sklearn-color-background);\n  padding-right: 1em;\n  padding-left: 1em;\n}\n\n\n/* Toggleable style: style used for estimator/Pipeline/ColumnTransformer box that is\nclickable and can be expanded/collapsed.\n- Pipeline and ColumnTransformer use this feature and define the default style\n- Estimators will overwrite some part of the style using the `sk-estimator` class\n*/\n\n/* Pipeline and ColumnTransformer style (default) */\n\n#sk-container-id-2 div.sk-toggleable {\n  /* Default theme specific background. It is overwritten whether we have a\n  specific estimator or a Pipeline/ColumnTransformer */\n  background-color: var(--sklearn-color-background);\n}\n\n/* Toggleable label */\n#sk-container-id-2 label.sk-toggleable__label {\n  cursor: pointer;\n  display: block;\n  width: 100%;\n  margin-bottom: 0;\n  padding: 0.5em;\n  box-sizing: border-box;\n  text-align: center;\n}\n\n#sk-container-id-2 label.sk-toggleable__label-arrow:before {\n  /* Arrow on the left of the label */\n  content: \"▸\";\n  float: left;\n  margin-right: 0.25em;\n  color: var(--sklearn-color-icon);\n}\n\n#sk-container-id-2 label.sk-toggleable__label-arrow:hover:before {\n  color: var(--sklearn-color-text);\n}\n\n/* Toggleable content - dropdown */\n\n#sk-container-id-2 div.sk-toggleable__content {\n  max-height: 0;\n  max-width: 0;\n  overflow: hidden;\n  text-align: left;\n  /* unfitted */\n  background-color: var(--sklearn-color-unfitted-level-0);\n}\n\n#sk-container-id-2 div.sk-toggleable__content.fitted {\n  /* fitted */\n  background-color: var(--sklearn-color-fitted-level-0);\n}\n\n#sk-container-id-2 div.sk-toggleable__content pre {\n  margin: 0.2em;\n  border-radius: 0.25em;\n  color: var(--sklearn-color-text);\n  /* unfitted */\n  background-color: var(--sklearn-color-unfitted-level-0);\n}\n\n#sk-container-id-2 div.sk-toggleable__content.fitted pre {\n  /* unfitted */\n  background-color: var(--sklearn-color-fitted-level-0);\n}\n\n#sk-container-id-2 input.sk-toggleable__control:checked~div.sk-toggleable__content {\n  /* Expand drop-down */\n  max-height: 200px;\n  max-width: 100%;\n  overflow: auto;\n}\n\n#sk-container-id-2 input.sk-toggleable__control:checked~label.sk-toggleable__label-arrow:before {\n  content: \"▾\";\n}\n\n/* Pipeline/ColumnTransformer-specific style */\n\n#sk-container-id-2 div.sk-label input.sk-toggleable__control:checked~label.sk-toggleable__label {\n  color: var(--sklearn-color-text);\n  background-color: var(--sklearn-color-unfitted-level-2);\n}\n\n#sk-container-id-2 div.sk-label.fitted input.sk-toggleable__control:checked~label.sk-toggleable__label {\n  background-color: var(--sklearn-color-fitted-level-2);\n}\n\n/* Estimator-specific style */\n\n/* Colorize estimator box */\n#sk-container-id-2 div.sk-estimator input.sk-toggleable__control:checked~label.sk-toggleable__label {\n  /* unfitted */\n  background-color: var(--sklearn-color-unfitted-level-2);\n}\n\n#sk-container-id-2 div.sk-estimator.fitted input.sk-toggleable__control:checked~label.sk-toggleable__label {\n  /* fitted */\n  background-color: var(--sklearn-color-fitted-level-2);\n}\n\n#sk-container-id-2 div.sk-label label.sk-toggleable__label,\n#sk-container-id-2 div.sk-label label {\n  /* The background is the default theme color */\n  color: var(--sklearn-color-text-on-default-background);\n}\n\n/* On hover, darken the color of the background */\n#sk-container-id-2 div.sk-label:hover label.sk-toggleable__label {\n  color: var(--sklearn-color-text);\n  background-color: var(--sklearn-color-unfitted-level-2);\n}\n\n/* Label box, darken color on hover, fitted */\n#sk-container-id-2 div.sk-label.fitted:hover label.sk-toggleable__label.fitted {\n  color: var(--sklearn-color-text);\n  background-color: var(--sklearn-color-fitted-level-2);\n}\n\n/* Estimator label */\n\n#sk-container-id-2 div.sk-label label {\n  font-family: monospace;\n  font-weight: bold;\n  display: inline-block;\n  line-height: 1.2em;\n}\n\n#sk-container-id-2 div.sk-label-container {\n  text-align: center;\n}\n\n/* Estimator-specific */\n#sk-container-id-2 div.sk-estimator {\n  font-family: monospace;\n  border: 1px dotted var(--sklearn-color-border-box);\n  border-radius: 0.25em;\n  box-sizing: border-box;\n  margin-bottom: 0.5em;\n  /* unfitted */\n  background-color: var(--sklearn-color-unfitted-level-0);\n}\n\n#sk-container-id-2 div.sk-estimator.fitted {\n  /* fitted */\n  background-color: var(--sklearn-color-fitted-level-0);\n}\n\n/* on hover */\n#sk-container-id-2 div.sk-estimator:hover {\n  /* unfitted */\n  background-color: var(--sklearn-color-unfitted-level-2);\n}\n\n#sk-container-id-2 div.sk-estimator.fitted:hover {\n  /* fitted */\n  background-color: var(--sklearn-color-fitted-level-2);\n}\n\n/* Specification for estimator info (e.g. \"i\" and \"?\") */\n\n/* Common style for \"i\" and \"?\" */\n\n.sk-estimator-doc-link,\na:link.sk-estimator-doc-link,\na:visited.sk-estimator-doc-link {\n  float: right;\n  font-size: smaller;\n  line-height: 1em;\n  font-family: monospace;\n  background-color: var(--sklearn-color-background);\n  border-radius: 1em;\n  height: 1em;\n  width: 1em;\n  text-decoration: none !important;\n  margin-left: 1ex;\n  /* unfitted */\n  border: var(--sklearn-color-unfitted-level-1) 1pt solid;\n  color: var(--sklearn-color-unfitted-level-1);\n}\n\n.sk-estimator-doc-link.fitted,\na:link.sk-estimator-doc-link.fitted,\na:visited.sk-estimator-doc-link.fitted {\n  /* fitted */\n  border: var(--sklearn-color-fitted-level-1) 1pt solid;\n  color: var(--sklearn-color-fitted-level-1);\n}\n\n/* On hover */\ndiv.sk-estimator:hover .sk-estimator-doc-link:hover,\n.sk-estimator-doc-link:hover,\ndiv.sk-label-container:hover .sk-estimator-doc-link:hover,\n.sk-estimator-doc-link:hover {\n  /* unfitted */\n  background-color: var(--sklearn-color-unfitted-level-3);\n  color: var(--sklearn-color-background);\n  text-decoration: none;\n}\n\ndiv.sk-estimator.fitted:hover .sk-estimator-doc-link.fitted:hover,\n.sk-estimator-doc-link.fitted:hover,\ndiv.sk-label-container:hover .sk-estimator-doc-link.fitted:hover,\n.sk-estimator-doc-link.fitted:hover {\n  /* fitted */\n  background-color: var(--sklearn-color-fitted-level-3);\n  color: var(--sklearn-color-background);\n  text-decoration: none;\n}\n\n/* Span, style for the box shown on hovering the info icon */\n.sk-estimator-doc-link span {\n  display: none;\n  z-index: 9999;\n  position: relative;\n  font-weight: normal;\n  right: .2ex;\n  padding: .5ex;\n  margin: .5ex;\n  width: min-content;\n  min-width: 20ex;\n  max-width: 50ex;\n  color: var(--sklearn-color-text);\n  box-shadow: 2pt 2pt 4pt #999;\n  /* unfitted */\n  background: var(--sklearn-color-unfitted-level-0);\n  border: .5pt solid var(--sklearn-color-unfitted-level-3);\n}\n\n.sk-estimator-doc-link.fitted span {\n  /* fitted */\n  background: var(--sklearn-color-fitted-level-0);\n  border: var(--sklearn-color-fitted-level-3);\n}\n\n.sk-estimator-doc-link:hover span {\n  display: block;\n}\n\n/* \"?\"-specific style due to the `<a>` HTML tag */\n\n#sk-container-id-2 a.estimator_doc_link {\n  float: right;\n  font-size: 1rem;\n  line-height: 1em;\n  font-family: monospace;\n  background-color: var(--sklearn-color-background);\n  border-radius: 1rem;\n  height: 1rem;\n  width: 1rem;\n  text-decoration: none;\n  /* unfitted */\n  color: var(--sklearn-color-unfitted-level-1);\n  border: var(--sklearn-color-unfitted-level-1) 1pt solid;\n}\n\n#sk-container-id-2 a.estimator_doc_link.fitted {\n  /* fitted */\n  border: var(--sklearn-color-fitted-level-1) 1pt solid;\n  color: var(--sklearn-color-fitted-level-1);\n}\n\n/* On hover */\n#sk-container-id-2 a.estimator_doc_link:hover {\n  /* unfitted */\n  background-color: var(--sklearn-color-unfitted-level-3);\n  color: var(--sklearn-color-background);\n  text-decoration: none;\n}\n\n#sk-container-id-2 a.estimator_doc_link.fitted:hover {\n  /* fitted */\n  background-color: var(--sklearn-color-fitted-level-3);\n}\n</style><div id=\"sk-container-id-2\" class=\"sk-top-container\"><div class=\"sk-text-repr-fallback\"><pre>RandomForestRegressor(n_estimators=50, random_state=0)</pre><b>In a Jupyter environment, please rerun this cell to show the HTML representation or trust the notebook. <br />On GitHub, the HTML representation is unable to render, please try loading this page with nbviewer.org.</b></div><div class=\"sk-container\" hidden><div class=\"sk-item\"><div class=\"sk-estimator fitted sk-toggleable\"><input class=\"sk-toggleable__control sk-hidden--visually\" id=\"sk-estimator-id-2\" type=\"checkbox\" checked><label for=\"sk-estimator-id-2\" class=\"sk-toggleable__label fitted sk-toggleable__label-arrow fitted\">&nbsp;&nbsp;RandomForestRegressor<a class=\"sk-estimator-doc-link fitted\" rel=\"noreferrer\" target=\"_blank\" href=\"https://scikit-learn.org/1.4/modules/generated/sklearn.ensemble.RandomForestRegressor.html\">?<span>Documentation for RandomForestRegressor</span></a><span class=\"sk-estimator-doc-link fitted\">i<span>Fitted</span></span></label><div class=\"sk-toggleable__content fitted\"><pre>RandomForestRegressor(n_estimators=50, random_state=0)</pre></div> </div></div></div></div>"
     },
     "execution_count": 68,
     "metadata": {},
     "output_type": "execute_result"
    }
   ],
   "source": [
    "from sklearn.ensemble import RandomForestRegressor\n",
    "regressor = RandomForestRegressor(n_estimators= 50, random_state = 0)\n",
    "regressor.fit(X_train, y_train)"
   ],
   "metadata": {
    "collapsed": false,
    "ExecuteTime": {
     "end_time": "2024-04-23T17:25:04.695032Z",
     "start_time": "2024-04-23T17:25:00.956291Z"
    }
   },
   "id": "d05bac2cca51462e",
   "execution_count": 68
  },
  {
   "cell_type": "code",
   "outputs": [],
   "source": [
    "y_pred = regressor.predict(X_test)"
   ],
   "metadata": {
    "collapsed": false,
    "ExecuteTime": {
     "end_time": "2024-04-23T17:25:05.984129Z",
     "start_time": "2024-04-23T17:25:05.970288Z"
    }
   },
   "id": "77b552b71d15e180",
   "execution_count": 69
  },
  {
   "cell_type": "code",
   "outputs": [
    {
     "data": {
      "text/plain": "0.9999994813673042"
     },
     "execution_count": 70,
     "metadata": {},
     "output_type": "execute_result"
    }
   ],
   "source": [
    "from sklearn import metrics\n",
    "metrics.explained_variance_score(y_test, y_pred)"
   ],
   "metadata": {
    "collapsed": false,
    "ExecuteTime": {
     "end_time": "2024-04-23T17:25:06.800727Z",
     "start_time": "2024-04-23T17:25:06.795047Z"
    }
   },
   "id": "3c8a5311d46892a3",
   "execution_count": 70
  },
  {
   "cell_type": "code",
   "outputs": [
    {
     "data": {
      "text/plain": "0.00037606214735159477"
     },
     "execution_count": 71,
     "metadata": {},
     "output_type": "execute_result"
    }
   ],
   "source": [
    "metrics.mean_absolute_error(y_test, y_pred)"
   ],
   "metadata": {
    "collapsed": false,
    "ExecuteTime": {
     "end_time": "2024-04-23T17:25:07.912328Z",
     "start_time": "2024-04-23T17:25:07.906327Z"
    }
   },
   "id": "726cfebdf8d7ba7d",
   "execution_count": 71
  },
  {
   "cell_type": "code",
   "outputs": [
    {
     "data": {
      "text/plain": "5.022572214822439e-07"
     },
     "execution_count": 72,
     "metadata": {},
     "output_type": "execute_result"
    }
   ],
   "source": [
    "metrics.mean_squared_error(y_test, y_pred)"
   ],
   "metadata": {
    "collapsed": false,
    "ExecuteTime": {
     "end_time": "2024-04-23T17:25:09.849785Z",
     "start_time": "2024-04-23T17:25:09.844601Z"
    }
   },
   "id": "46a925e7e10b3826",
   "execution_count": 72
  },
  {
   "cell_type": "code",
   "outputs": [
    {
     "data": {
      "text/plain": "0.9999994813513527"
     },
     "execution_count": 73,
     "metadata": {},
     "output_type": "execute_result"
    }
   ],
   "source": [
    "metrics.r2_score(y_test, y_pred)"
   ],
   "metadata": {
    "collapsed": false,
    "ExecuteTime": {
     "end_time": "2024-04-23T17:25:10.731117Z",
     "start_time": "2024-04-23T17:25:10.725063Z"
    }
   },
   "id": "bbb2b9abac2f52d8",
   "execution_count": 73
  },
  {
   "cell_type": "code",
   "outputs": [
    {
     "name": "stdout",
     "output_type": "stream",
     "text": [
      "Explained Variance Score: 0.9874843724633513\n",
      "Mean Absolute Error: 0.0634014767716469\n",
      "Mean Squared Error: 0.012171689707997367\n",
      "R^2 Score: 0.9874310808651663\n"
     ]
    }
   ],
   "source": [
    "from sklearn.ensemble import RandomForestRegressor\n",
    "from sklearn.decomposition import PCA\n",
    "from sklearn.pipeline import Pipeline\n",
    "\n",
    "# Зведення моделі до пайплайну, щоб використати PCA перед Random Forest\n",
    "model = Pipeline([\n",
    "    (\"pca\", PCA(n_components=11)),  # Використовуємо лише перші 11 компонент\n",
    "    (\"rf\", RandomForestRegressor(n_estimators=50, random_state=0))\n",
    "])\n",
    "\n",
    "# Тренування моделі на зменшених даних\n",
    "model.fit(X_train, y_train)\n",
    "\n",
    "# Прогнозування\n",
    "y_pred = model.predict(X_test)\n",
    "\n",
    "# Оцінка результатів\n",
    "explained_variance = metrics.explained_variance_score(y_test, y_pred)\n",
    "mean_absolute_error = metrics.mean_absolute_error(y_test, y_pred)\n",
    "mean_squared_error = metrics.mean_squared_error(y_test, y_pred)\n",
    "r2_score = metrics.r2_score(y_test, y_pred)\n",
    "\n",
    "print(\"Explained Variance Score:\", explained_variance)\n",
    "print(\"Mean Absolute Error:\", mean_absolute_error)\n",
    "print(\"Mean Squared Error:\", mean_squared_error)\n",
    "print(\"R^2 Score:\", r2_score)\n"
   ],
   "metadata": {
    "collapsed": false,
    "ExecuteTime": {
     "end_time": "2024-04-23T17:27:40.953827Z",
     "start_time": "2024-04-23T17:27:38.099940Z"
    }
   },
   "id": "4bdd8cdbe2e39b7c",
   "execution_count": 74
  },
  {
   "cell_type": "code",
   "outputs": [],
   "source": [
    "from sklearn.decomposition import PCA\n",
    "from sklearn.preprocessing import StandardScaler\n",
    "from sklearn.ensemble import RandomForestRegressor\n",
    "from sklearn.model_selection import train_test_split\n",
    "from sklearn import metrics\n",
    "import numpy as np\n",
    "\n",
    "# Спочатку масштабуємо дані\n",
    "scaler = StandardScaler()\n",
    "X_scaled = scaler.fit_transform(X)\n",
    "\n",
    "# Зменшуємо розмірність датасету з PCA\n",
    "pca = PCA(n_components=11)\n",
    "X_pca = pca.fit_transform(X_scaled)\n",
    "\n",
    "\n"
   ],
   "metadata": {
    "collapsed": false,
    "ExecuteTime": {
     "end_time": "2024-04-23T17:44:09.540158Z",
     "start_time": "2024-04-23T17:44:09.421777Z"
    }
   },
   "id": "fbd408ea0ad16e9b",
   "execution_count": 85
  },
  {
   "cell_type": "code",
   "outputs": [
    {
     "data": {
      "text/plain": "array([[-1.01663649, -0.1260113 ,  0.30967661, ..., -0.35701593,\n        -0.26162615,  0.29120142],\n       [-2.63595393, -0.68877926,  0.1421904 , ..., -0.24153334,\n         0.24196017, -0.1736432 ],\n       [-1.97417683, -0.11643993, -0.21777875, ..., -0.45894806,\n        -0.69903639, -0.27074216],\n       ...,\n       [-1.69405888, -0.67128721,  0.25172726, ...,  1.39604226,\n        -0.0621392 ,  0.23599598],\n       [-2.38318352, -0.23901099, -0.14031179, ...,  1.37623182,\n         0.13410856,  0.13591452],\n       [-1.95805292, -0.37904751, -0.27749556, ...,  1.32835854,\n         0.13085381,  0.1912969 ]])"
     },
     "execution_count": 87,
     "metadata": {},
     "output_type": "execute_result"
    }
   ],
   "source": [
    "X_pca"
   ],
   "metadata": {
    "collapsed": false,
    "ExecuteTime": {
     "end_time": "2024-04-23T17:44:38.023636Z",
     "start_time": "2024-04-23T17:44:38.018722Z"
    }
   },
   "id": "33e30e3b8471bc18",
   "execution_count": 87
  },
  {
   "cell_type": "code",
   "outputs": [
    {
     "data": {
      "text/plain": "(0.9696358780930904, 0.10229388579635838, 0.02940551578306765)"
     },
     "execution_count": 88,
     "metadata": {},
     "output_type": "execute_result"
    }
   ],
   "source": [
    "# Розділяємо дані на навчальний та тестувальний набори\n",
    "X_train, X_test, y_train, y_test = train_test_split(X_pca, y, test_size=0.15, random_state=0)\n",
    "\n",
    "# Ініціалізуємо та навчаємо модель Random Forest\n",
    "regressor = RandomForestRegressor(n_estimators=50, random_state=0)\n",
    "regressor.fit(X_train, y_train)\n",
    "\n",
    "# Робимо прогнози на тестувальному наборі\n",
    "y_pred = regressor.predict(X_test)\n",
    "\n",
    "# Оцінюємо точність моделі\n",
    "explained_variance = metrics.explained_variance_score(y_test, y_pred)\n",
    "mean_absolute_error = metrics.mean_absolute_error(y_test, y_pred)\n",
    "mean_squared_error = metrics.mean_squared_error(y_test, y_pred)\n",
    "\n",
    "explained_variance, mean_absolute_error, mean_squared_error"
   ],
   "metadata": {
    "collapsed": false,
    "ExecuteTime": {
     "end_time": "2024-04-23T17:45:55.211946Z",
     "start_time": "2024-04-23T17:45:52.241863Z"
    }
   },
   "id": "a17d55e3de22147a",
   "execution_count": 88
  },
  {
   "cell_type": "code",
   "outputs": [],
   "source": [],
   "metadata": {
    "collapsed": false
   },
   "id": "58bc7a82b8b1b0cf"
  }
 ],
 "metadata": {
  "kernelspec": {
   "display_name": "Python 3",
   "language": "python",
   "name": "python3"
  },
  "language_info": {
   "codemirror_mode": {
    "name": "ipython",
    "version": 2
   },
   "file_extension": ".py",
   "mimetype": "text/x-python",
   "name": "python",
   "nbconvert_exporter": "python",
   "pygments_lexer": "ipython2",
   "version": "2.7.6"
  }
 },
 "nbformat": 4,
 "nbformat_minor": 5
}
