{
 "cells": [
  {
   "cell_type": "code",
   "execution_count": 1,
   "id": "initial_id",
   "metadata": {
    "ExecuteTime": {
     "end_time": "2024-04-21T16:22:39.964166400Z",
     "start_time": "2024-04-21T16:22:39.950183100Z"
    }
   },
   "outputs": [
    {
     "name": "stdout",
     "output_type": "stream",
     "text": [
      "34\n"
     ]
    }
   ],
   "source": [
    "print(34)"
   ]
  },
  {
   "cell_type": "code",
   "execution_count": 3,
   "id": "f7686820",
   "metadata": {
    "ExecuteTime": {
     "end_time": "2024-04-21T16:46:34.764890200Z",
     "start_time": "2024-04-21T16:46:34.558117500Z"
    },
    "collapsed": false,
    "jupyter": {
     "outputs_hidden": false
    }
   },
   "outputs": [],
   "source": [
    "import pandas as pd\n",
    "import numpy as np\n",
    "import matplotlib.pyplot as plt\n",
    "import seaborn as sns\n",
    "from sklearn.ensemble import RandomForestRegressor\n"
   ]
  },
  {
   "cell_type": "code",
   "execution_count": 3,
   "outputs": [],
   "source": [
    "Data = pd.read_csv(\"raw_dataset.csv\")\n"
   ],
   "metadata": {
    "collapsed": false,
    "ExecuteTime": {
     "end_time": "2024-04-21T16:51:20.901684900Z",
     "start_time": "2024-04-21T16:51:20.890135900Z"
    }
   }
  },
  {
   "cell_type": "code",
   "execution_count": 4,
   "outputs": [
    {
     "data": {
      "text/plain": "   subject#  age  sex  test_time  motor_UPDRS  total_UPDRS  Jitter(%)  \\\n0         1   72    0     5.6431       28.199       34.398    0.00662   \n1         1   72    0    12.6660       28.447       34.894    0.00300   \n2         1   72    0    19.6810       28.695       35.389    0.00481   \n3         1   72    0    25.6470       28.905       35.810    0.00528   \n4         1   72    0    33.6420       29.187       36.375    0.00335   \n\n   Jitter(Abs)  Jitter:RAP  Jitter:PPQ5  ...  Shimmer(dB)  Shimmer:APQ3  \\\n0     0.000034     0.00401      0.00317  ...        0.230       0.01438   \n1     0.000017     0.00132      0.00150  ...        0.179       0.00994   \n2     0.000025     0.00205      0.00208  ...        0.181       0.00734   \n3     0.000027     0.00191      0.00264  ...        0.327       0.01106   \n4     0.000020     0.00093      0.00130  ...        0.176       0.00679   \n\n   Shimmer:APQ5  Shimmer:APQ11  Shimmer:DDA       NHR     HNR     RPDE  \\\n0       0.01309        0.01662      0.04314  0.014290  21.640  0.41888   \n1       0.01072        0.01689      0.02982  0.011112  27.183  0.43493   \n2       0.00844        0.01458      0.02202  0.020220  23.047  0.46222   \n3       0.01265        0.01963      0.03317  0.027837  24.445  0.48730   \n4       0.00929        0.01819      0.02036  0.011625  26.126  0.47188   \n\n       DFA      PPE  \n0  0.54842  0.16006  \n1  0.56477  0.10810  \n2  0.54405  0.21014  \n3  0.57794  0.33277  \n4  0.56122  0.19361  \n\n[5 rows x 22 columns]",
      "text/html": "<div>\n<style scoped>\n    .dataframe tbody tr th:only-of-type {\n        vertical-align: middle;\n    }\n\n    .dataframe tbody tr th {\n        vertical-align: top;\n    }\n\n    .dataframe thead th {\n        text-align: right;\n    }\n</style>\n<table border=\"1\" class=\"dataframe\">\n  <thead>\n    <tr style=\"text-align: right;\">\n      <th></th>\n      <th>subject#</th>\n      <th>age</th>\n      <th>sex</th>\n      <th>test_time</th>\n      <th>motor_UPDRS</th>\n      <th>total_UPDRS</th>\n      <th>Jitter(%)</th>\n      <th>Jitter(Abs)</th>\n      <th>Jitter:RAP</th>\n      <th>Jitter:PPQ5</th>\n      <th>...</th>\n      <th>Shimmer(dB)</th>\n      <th>Shimmer:APQ3</th>\n      <th>Shimmer:APQ5</th>\n      <th>Shimmer:APQ11</th>\n      <th>Shimmer:DDA</th>\n      <th>NHR</th>\n      <th>HNR</th>\n      <th>RPDE</th>\n      <th>DFA</th>\n      <th>PPE</th>\n    </tr>\n  </thead>\n  <tbody>\n    <tr>\n      <th>0</th>\n      <td>1</td>\n      <td>72</td>\n      <td>0</td>\n      <td>5.6431</td>\n      <td>28.199</td>\n      <td>34.398</td>\n      <td>0.00662</td>\n      <td>0.000034</td>\n      <td>0.00401</td>\n      <td>0.00317</td>\n      <td>...</td>\n      <td>0.230</td>\n      <td>0.01438</td>\n      <td>0.01309</td>\n      <td>0.01662</td>\n      <td>0.04314</td>\n      <td>0.014290</td>\n      <td>21.640</td>\n      <td>0.41888</td>\n      <td>0.54842</td>\n      <td>0.16006</td>\n    </tr>\n    <tr>\n      <th>1</th>\n      <td>1</td>\n      <td>72</td>\n      <td>0</td>\n      <td>12.6660</td>\n      <td>28.447</td>\n      <td>34.894</td>\n      <td>0.00300</td>\n      <td>0.000017</td>\n      <td>0.00132</td>\n      <td>0.00150</td>\n      <td>...</td>\n      <td>0.179</td>\n      <td>0.00994</td>\n      <td>0.01072</td>\n      <td>0.01689</td>\n      <td>0.02982</td>\n      <td>0.011112</td>\n      <td>27.183</td>\n      <td>0.43493</td>\n      <td>0.56477</td>\n      <td>0.10810</td>\n    </tr>\n    <tr>\n      <th>2</th>\n      <td>1</td>\n      <td>72</td>\n      <td>0</td>\n      <td>19.6810</td>\n      <td>28.695</td>\n      <td>35.389</td>\n      <td>0.00481</td>\n      <td>0.000025</td>\n      <td>0.00205</td>\n      <td>0.00208</td>\n      <td>...</td>\n      <td>0.181</td>\n      <td>0.00734</td>\n      <td>0.00844</td>\n      <td>0.01458</td>\n      <td>0.02202</td>\n      <td>0.020220</td>\n      <td>23.047</td>\n      <td>0.46222</td>\n      <td>0.54405</td>\n      <td>0.21014</td>\n    </tr>\n    <tr>\n      <th>3</th>\n      <td>1</td>\n      <td>72</td>\n      <td>0</td>\n      <td>25.6470</td>\n      <td>28.905</td>\n      <td>35.810</td>\n      <td>0.00528</td>\n      <td>0.000027</td>\n      <td>0.00191</td>\n      <td>0.00264</td>\n      <td>...</td>\n      <td>0.327</td>\n      <td>0.01106</td>\n      <td>0.01265</td>\n      <td>0.01963</td>\n      <td>0.03317</td>\n      <td>0.027837</td>\n      <td>24.445</td>\n      <td>0.48730</td>\n      <td>0.57794</td>\n      <td>0.33277</td>\n    </tr>\n    <tr>\n      <th>4</th>\n      <td>1</td>\n      <td>72</td>\n      <td>0</td>\n      <td>33.6420</td>\n      <td>29.187</td>\n      <td>36.375</td>\n      <td>0.00335</td>\n      <td>0.000020</td>\n      <td>0.00093</td>\n      <td>0.00130</td>\n      <td>...</td>\n      <td>0.176</td>\n      <td>0.00679</td>\n      <td>0.00929</td>\n      <td>0.01819</td>\n      <td>0.02036</td>\n      <td>0.011625</td>\n      <td>26.126</td>\n      <td>0.47188</td>\n      <td>0.56122</td>\n      <td>0.19361</td>\n    </tr>\n  </tbody>\n</table>\n<p>5 rows × 22 columns</p>\n</div>"
     },
     "execution_count": 4,
     "metadata": {},
     "output_type": "execute_result"
    }
   ],
   "source": [
    "Data.head()\n"
   ],
   "metadata": {
    "collapsed": false,
    "ExecuteTime": {
     "end_time": "2024-04-21T16:51:44.859560600Z",
     "start_time": "2024-04-21T16:51:44.828209100Z"
    }
   }
  },
  {
   "cell_type": "code",
   "execution_count": 5,
   "outputs": [
    {
     "name": "stdout",
     "output_type": "stream",
     "text": [
      "Number of samples: 150\n",
      "Number of features: 4\n"
     ]
    }
   ],
   "source": [
    "from sklearn.datasets import load_iris\n",
    "\n",
    "iris = load_iris()\n",
    "X = iris['data']\n",
    "y = iris['target']\n",
    "\n",
    "n_samples, n_features = X.shape\n",
    "\n",
    "print('Number of samples:', n_samples)\n",
    "print('Number of features:', n_features)\n"
   ],
   "metadata": {
    "collapsed": false,
    "ExecuteTime": {
     "end_time": "2024-04-21T16:54:26.145974100Z",
     "start_time": "2024-04-21T16:54:26.097537Z"
    }
   }
  },
  {
   "cell_type": "code",
   "execution_count": null,
   "outputs": [],
   "source": [
    "def mean(x): # np.mean(X, axis = 0)\n",
    "    return sum(x)/len(x)\n",
    "\n",
    "def std(x): # np.std(X, axis = 0)\n",
    "    return (sum((i - mean(x))**2 for i in x)/len(x))**0.5\n",
    "\n",
    "def Standardize_data(X):\n",
    "    return (X - mean(X))/std(X)\n",
    "\n",
    "X_std = Standardize_data(X)\n"
   ],
   "metadata": {
    "collapsed": false
   }
  },
  {
   "cell_type": "code",
   "execution_count": null,
   "outputs": [],
   "source": [
    "def covariance(x):\n",
    "    return (x.T @ x)/(x.shape[0]-1)\n",
    "\n",
    "cov_mat = covariance(X_std) # np.cov(X_std.T)"
   ],
   "metadata": {
    "collapsed": false
   }
  },
  {
   "cell_type": "code",
   "execution_count": null,
   "outputs": [],
   "source": [],
   "metadata": {
    "collapsed": false
   }
  }
 ],
 "metadata": {
  "kernelspec": {
   "display_name": "Python 3 (ipykernel)",
   "language": "python",
   "name": "python3"
  },
  "language_info": {
   "codemirror_mode": {
    "name": "ipython",
    "version": 3
   },
   "file_extension": ".py",
   "mimetype": "text/x-python",
   "name": "python",
   "nbconvert_exporter": "python",
   "pygments_lexer": "ipython3",
   "version": "3.11.4"
  }
 },
 "nbformat": 4,
 "nbformat_minor": 5
}
